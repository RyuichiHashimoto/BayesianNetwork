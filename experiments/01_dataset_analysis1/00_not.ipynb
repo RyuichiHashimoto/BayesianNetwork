{
 "cells": [
  {
   "cell_type": "code",
   "execution_count": 1,
   "id": "000c4c2f-ecd8-4e9d-8f75-8a66b4537409",
   "metadata": {},
   "outputs": [],
   "source": [
    "from attack_predictor_libs.dataset.guide_dataset import GuideDataset\n",
    "from attack_predictor_libs.visualize.scenario_visualizer import visualize_scenario\n",
    "import polars as pl\n",
    "from tqdm import tqdm\n",
    "import os"
   ]
  },
  {
   "cell_type": "markdown",
   "id": "7e4eacab",
   "metadata": {},
   "source": [
    "## 目的\n",
    "GUIDEデータセットには大量のデータがあるが、使用困難なデータもあると思われる。  \n"
   ]
  },
  {
   "cell_type": "code",
   "execution_count": 2,
   "id": "dfd4a1d9",
   "metadata": {},
   "outputs": [],
   "source": [
    "train_path =  \"/home/work/dataset/guide/GUIDE_Train.csv\"\n",
    "test_path = \"/home/work/dataset/guide/GUIDE_Test.csv\"\n",
    "\n",
    "train_df = pl.read_csv(train_path)\n",
    "test_df = pl.read_csv(test_path)"
   ]
  },
  {
   "cell_type": "code",
   "execution_count": 5,
   "id": "2e813653",
   "metadata": {},
   "outputs": [
    {
     "name": "stdout",
     "output_type": "stream",
     "text": [
      "train: 730778\n",
      "test: 303220\n"
     ]
    }
   ],
   "source": [
    "n_train = train_df.n_unique(subset = [\"OrgId\", \"IncidentId\"])\n",
    "n_test = test_df.n_unique(subset = [\"OrgId\", \"IncidentId\"])\n",
    "print(f\"train: {n_train}\")\n",
    "print(f\"test: {n_test}\")"
   ]
  },
  {
   "cell_type": "code",
   "execution_count": 6,
   "id": "95b87cc0",
   "metadata": {},
   "outputs": [
    {
     "name": "stdout",
     "output_type": "stream",
     "text": [
      "train: 251494\n",
      "test: 107018\n"
     ]
    }
   ],
   "source": [
    "d_train_df = train_df.drop_nulls(subset=[\"MitreTechniques\"])\n",
    "d_test_df = test_df.drop_nulls(subset=[\"MitreTechniques\"])\n",
    "\n",
    "n_train = d_train_df.n_unique(subset = [\"OrgId\", \"IncidentId\"])\n",
    "n_test = d_test_df.n_unique(subset = [\"OrgId\", \"IncidentId\"])\n",
    "print(f\"train: {n_train}\")\n",
    "print(f\"test: {n_test}\")"
   ]
  },
  {
   "cell_type": "code",
   "execution_count": 7,
   "id": "16e5db26",
   "metadata": {},
   "outputs": [
    {
     "data": {
      "text/html": [
       "<div><style>\n",
       ".dataframe > thead > tr,\n",
       ".dataframe > tbody > tr {\n",
       "  text-align: right;\n",
       "  white-space: pre-wrap;\n",
       "}\n",
       "</style>\n",
       "<small>shape: (5, 45)</small><table border=\"1\" class=\"dataframe\"><thead><tr><th>Id</th><th>OrgId</th><th>IncidentId</th><th>AlertId</th><th>Timestamp</th><th>DetectorId</th><th>AlertTitle</th><th>Category</th><th>MitreTechniques</th><th>IncidentGrade</th><th>ActionGrouped</th><th>ActionGranular</th><th>EntityType</th><th>EvidenceRole</th><th>DeviceId</th><th>Sha256</th><th>IpAddress</th><th>Url</th><th>AccountSid</th><th>AccountUpn</th><th>AccountObjectId</th><th>AccountName</th><th>DeviceName</th><th>NetworkMessageId</th><th>EmailClusterId</th><th>RegistryKey</th><th>RegistryValueName</th><th>RegistryValueData</th><th>ApplicationId</th><th>ApplicationName</th><th>OAuthApplicationId</th><th>ThreatFamily</th><th>FileName</th><th>FolderPath</th><th>ResourceIdName</th><th>ResourceType</th><th>Roles</th><th>OSFamily</th><th>OSVersion</th><th>AntispamDirection</th><th>SuspicionLevel</th><th>LastVerdict</th><th>CountryCode</th><th>State</th><th>City</th></tr><tr><td>i64</td><td>i64</td><td>i64</td><td>i64</td><td>str</td><td>i64</td><td>i64</td><td>str</td><td>str</td><td>str</td><td>str</td><td>str</td><td>str</td><td>str</td><td>i64</td><td>i64</td><td>i64</td><td>i64</td><td>i64</td><td>i64</td><td>i64</td><td>i64</td><td>i64</td><td>i64</td><td>f64</td><td>i64</td><td>i64</td><td>i64</td><td>i64</td><td>i64</td><td>i64</td><td>str</td><td>i64</td><td>i64</td><td>i64</td><td>str</td><td>str</td><td>i64</td><td>i64</td><td>str</td><td>str</td><td>str</td><td>i64</td><td>i64</td><td>i64</td></tr></thead><tbody><tr><td>180388628218</td><td>0</td><td>612</td><td>123247</td><td>&quot;2024-06-04T06:05:15.000Z&quot;</td><td>7</td><td>6</td><td>&quot;InitialAccess&quot;</td><td>null</td><td>&quot;TruePositive&quot;</td><td>null</td><td>null</td><td>&quot;Ip&quot;</td><td>&quot;Related&quot;</td><td>98799</td><td>138268</td><td>27</td><td>160396</td><td>441377</td><td>673934</td><td>425863</td><td>453297</td><td>153085</td><td>529644</td><td>null</td><td>1631</td><td>635</td><td>860</td><td>2251</td><td>3421</td><td>881</td><td>null</td><td>289573</td><td>117668</td><td>3586</td><td>null</td><td>null</td><td>5</td><td>66</td><td>null</td><td>null</td><td>null</td><td>31</td><td>6</td><td>3</td></tr><tr><td>455266534868</td><td>88</td><td>326</td><td>210035</td><td>&quot;2024-06-14T03:01:25.000Z&quot;</td><td>58</td><td>43</td><td>&quot;Exfiltration&quot;</td><td>null</td><td>&quot;FalsePositive&quot;</td><td>null</td><td>null</td><td>&quot;User&quot;</td><td>&quot;Impacted&quot;</td><td>98799</td><td>138268</td><td>360606</td><td>160396</td><td>22406</td><td>23032</td><td>22795</td><td>24887</td><td>153085</td><td>529644</td><td>null</td><td>1631</td><td>635</td><td>860</td><td>2251</td><td>3421</td><td>881</td><td>null</td><td>289573</td><td>117668</td><td>3586</td><td>null</td><td>null</td><td>5</td><td>66</td><td>null</td><td>null</td><td>null</td><td>242</td><td>1445</td><td>10630</td></tr><tr><td>1056561957389</td><td>809</td><td>58352</td><td>712507</td><td>&quot;2024-06-13T04:52:55.000Z&quot;</td><td>423</td><td>298</td><td>&quot;InitialAccess&quot;</td><td>&quot;T1189&quot;</td><td>&quot;FalsePositive&quot;</td><td>null</td><td>null</td><td>&quot;Url&quot;</td><td>&quot;Related&quot;</td><td>98799</td><td>138268</td><td>360606</td><td>68652</td><td>441377</td><td>673934</td><td>425863</td><td>453297</td><td>153085</td><td>529644</td><td>null</td><td>1631</td><td>635</td><td>860</td><td>2251</td><td>3421</td><td>881</td><td>null</td><td>289573</td><td>117668</td><td>3586</td><td>null</td><td>null</td><td>5</td><td>66</td><td>null</td><td>&quot;Suspicious&quot;</td><td>&quot;Suspicious&quot;</td><td>242</td><td>1445</td><td>10630</td></tr><tr><td>1279900258736</td><td>92</td><td>32992</td><td>774301</td><td>&quot;2024-06-10T16:39:36.000Z&quot;</td><td>2</td><td>2</td><td>&quot;CommandAndControl&quot;</td><td>null</td><td>&quot;BenignPositive&quot;</td><td>null</td><td>null</td><td>&quot;Url&quot;</td><td>&quot;Related&quot;</td><td>98799</td><td>138268</td><td>360606</td><td>13</td><td>441377</td><td>673934</td><td>425863</td><td>453297</td><td>153085</td><td>529644</td><td>null</td><td>1631</td><td>635</td><td>860</td><td>2251</td><td>3421</td><td>881</td><td>null</td><td>289573</td><td>117668</td><td>3586</td><td>null</td><td>null</td><td>5</td><td>66</td><td>null</td><td>&quot;Suspicious&quot;</td><td>&quot;Suspicious&quot;</td><td>242</td><td>1445</td><td>10630</td></tr><tr><td>214748368522</td><td>148</td><td>4359</td><td>188041</td><td>&quot;2024-06-15T01:08:07.000Z&quot;</td><td>9</td><td>74</td><td>&quot;Execution&quot;</td><td>null</td><td>&quot;TruePositive&quot;</td><td>null</td><td>null</td><td>&quot;User&quot;</td><td>&quot;Impacted&quot;</td><td>98799</td><td>138268</td><td>360606</td><td>160396</td><td>449</td><td>592</td><td>440</td><td>479</td><td>153085</td><td>529644</td><td>null</td><td>1631</td><td>635</td><td>860</td><td>2251</td><td>3421</td><td>881</td><td>null</td><td>289573</td><td>117668</td><td>3586</td><td>null</td><td>null</td><td>5</td><td>66</td><td>null</td><td>null</td><td>null</td><td>242</td><td>1445</td><td>10630</td></tr></tbody></table></div>"
      ],
      "text/plain": [
       "shape: (5, 45)\n",
       "┌───────────────┬───────┬────────────┬─────────┬───┬─────────────┬─────────────┬───────┬───────┐\n",
       "│ Id            ┆ OrgId ┆ IncidentId ┆ AlertId ┆ … ┆ LastVerdict ┆ CountryCode ┆ State ┆ City  │\n",
       "│ ---           ┆ ---   ┆ ---        ┆ ---     ┆   ┆ ---         ┆ ---         ┆ ---   ┆ ---   │\n",
       "│ i64           ┆ i64   ┆ i64        ┆ i64     ┆   ┆ str         ┆ i64         ┆ i64   ┆ i64   │\n",
       "╞═══════════════╪═══════╪════════════╪═════════╪═══╪═════════════╪═════════════╪═══════╪═══════╡\n",
       "│ 180388628218  ┆ 0     ┆ 612        ┆ 123247  ┆ … ┆ null        ┆ 31          ┆ 6     ┆ 3     │\n",
       "│ 455266534868  ┆ 88    ┆ 326        ┆ 210035  ┆ … ┆ null        ┆ 242         ┆ 1445  ┆ 10630 │\n",
       "│ 1056561957389 ┆ 809   ┆ 58352      ┆ 712507  ┆ … ┆ Suspicious  ┆ 242         ┆ 1445  ┆ 10630 │\n",
       "│ 1279900258736 ┆ 92    ┆ 32992      ┆ 774301  ┆ … ┆ Suspicious  ┆ 242         ┆ 1445  ┆ 10630 │\n",
       "│ 214748368522  ┆ 148   ┆ 4359       ┆ 188041  ┆ … ┆ null        ┆ 242         ┆ 1445  ┆ 10630 │\n",
       "└───────────────┴───────┴────────────┴─────────┴───┴─────────────┴─────────────┴───────┴───────┘"
      ]
     },
     "execution_count": 7,
     "metadata": {},
     "output_type": "execute_result"
    }
   ],
   "source": [
    "train_df.head()"
   ]
  },
  {
   "cell_type": "code",
   "execution_count": 10,
   "id": "3b232abb",
   "metadata": {},
   "outputs": [
    {
     "name": "stdout",
     "output_type": "stream",
     "text": [
      "train: 45535\n",
      "test: 19613\n"
     ]
    }
   ],
   "source": [
    "t_d_train_df = d_train_df.filter(pl.col(\"IncidentGrade\") == \"TruePositive\")\n",
    "t_d_test_df = d_test_df.filter(pl.col(\"IncidentGrade\") == \"TruePositive\")\n",
    "\n",
    "n_train = t_d_train_df.n_unique(subset = [\"OrgId\", \"IncidentId\"])\n",
    "n_test = t_d_test_df.n_unique(subset = [\"OrgId\", \"IncidentId\"])\n",
    "print(f\"train: {n_train}\")\n",
    "print(f\"test: {n_test}\")"
   ]
  },
  {
   "cell_type": "code",
   "execution_count": null,
   "id": "b55522e5",
   "metadata": {},
   "outputs": [],
   "source": []
  }
 ],
 "metadata": {
  "kernelspec": {
   "display_name": "bayses-3UyvmeC2-py3.11",
   "language": "python",
   "name": "python3"
  },
  "language_info": {
   "codemirror_mode": {
    "name": "ipython",
    "version": 3
   },
   "file_extension": ".py",
   "mimetype": "text/x-python",
   "name": "python",
   "nbconvert_exporter": "python",
   "pygments_lexer": "ipython3",
   "version": "3.11.10"
  }
 },
 "nbformat": 4,
 "nbformat_minor": 5
}
