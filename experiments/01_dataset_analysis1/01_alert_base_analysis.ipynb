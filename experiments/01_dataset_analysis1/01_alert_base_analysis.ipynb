{
 "cells": [
  {
   "cell_type": "code",
   "execution_count": 1,
   "id": "000c4c2f-ecd8-4e9d-8f75-8a66b4537409",
   "metadata": {},
   "outputs": [],
   "source": [
    "import polars as pl\n",
    "from attack_predictor_libs.dataset.guide_dataset import GuideDataset"
   ]
  },
  {
   "cell_type": "markdown",
   "id": "7e4eacab",
   "metadata": {},
   "source": [
    "## 目的\n",
    "GUIDEデータセットには大量のデータがあるが、使用困難なデータもあると思われる。  \n"
   ]
  },
  {
   "cell_type": "code",
   "execution_count": 2,
   "id": "f0706aa3",
   "metadata": {},
   "outputs": [],
   "source": [
    "dataset = GuideDataset()"
   ]
  },
  {
   "cell_type": "code",
   "execution_count": 3,
   "id": "4d929aef",
   "metadata": {},
   "outputs": [
    {
     "name": "stderr",
     "output_type": "stream",
     "text": [
      "/tmp/ipykernel_226926/2598009646.py:1: DeprecationWarning: `GroupBy.count` is deprecated. It has been renamed to `len`.\n",
      "  dataset.data.group_by(\"alert_bit_value\").count().sort(\"alert_bit_value\")\n"
     ]
    },
    {
     "data": {
      "text/html": [
       "<div><style>\n",
       ".dataframe > thead > tr,\n",
       ".dataframe > tbody > tr {\n",
       "  text-align: right;\n",
       "  white-space: pre-wrap;\n",
       "}\n",
       "</style>\n",
       "<small>shape: (8, 2)</small><table border=\"1\" class=\"dataframe\"><thead><tr><th>alert_bit_value</th><th>count</th></tr><tr><td>i64</td><td>u32</td></tr></thead><tbody><tr><td>0</td><td>8773</td></tr><tr><td>1</td><td>2374024</td></tr><tr><td>2</td><td>925348</td></tr><tr><td>3</td><td>2442643</td></tr><tr><td>4</td><td>65369</td></tr><tr><td>5</td><td>30</td></tr><tr><td>6</td><td>71820</td></tr><tr><td>7</td><td>1332</td></tr></tbody></table></div>"
      ],
      "text/plain": [
       "shape: (8, 2)\n",
       "┌─────────────────┬─────────┐\n",
       "│ alert_bit_value ┆ count   │\n",
       "│ ---             ┆ ---     │\n",
       "│ i64             ┆ u32     │\n",
       "╞═════════════════╪═════════╡\n",
       "│ 0               ┆ 8773    │\n",
       "│ 1               ┆ 2374024 │\n",
       "│ 2               ┆ 925348  │\n",
       "│ 3               ┆ 2442643 │\n",
       "│ 4               ┆ 65369   │\n",
       "│ 5               ┆ 30      │\n",
       "│ 6               ┆ 71820   │\n",
       "│ 7               ┆ 1332    │\n",
       "└─────────────────┴─────────┘"
      ]
     },
     "execution_count": 3,
     "metadata": {},
     "output_type": "execute_result"
    }
   ],
   "source": [
    "dataset.data.group_by(\"alert_bit_value\").count().sort(\"alert_bit_value\")"
   ]
  },
  {
   "cell_type": "code",
   "execution_count": 4,
   "id": "1fb8e636",
   "metadata": {},
   "outputs": [
    {
     "name": "stdout",
     "output_type": "stream",
     "text": [
      "['T0807', 'T1183', 'T0853', 'T0837', 'T1643', 'T1640', 'T1208', 'T0843', 'T0826', 'T0878', 'T1084', 'T0838', 'T1086', 'T1064', 'T0831', 'T0859', 'T0816', 'T0866', 'T0858', 'T1085', 'T0886', 'T0890', 'T0814', 'T0873', 'T1060', 'T1629', 'T1188', 'T0855', 'T1603', 'T1541', 'T0840', 'T0857', 'T1191', 'T0863', 'T0820', 'T0865']\n"
     ]
    }
   ],
   "source": [
    "print(dataset.data.filter(pl.col(\"alert_bit_value\")==0).select(pl.col(\"MitreTechniques\")).with_columns(pl.col(\"MitreTechniques\").str.split(\";\")).explode(\"MitreTechniques\").unique(\"MitreTechniques\")[\"MitreTechniques\"].to_list())"
   ]
  },
  {
   "cell_type": "markdown",
   "id": "0e4dace4",
   "metadata": {},
   "source": [
    "## 現在では使用されていないTechnique ID\n",
    "下記Technique IDは別のIDに振り分けられている  \n",
    "T1085はhttps://attack.mitre.org/techniques/T1218/011/  \n",
    "T1191はhttps://attack.mitre.org/techniques/T1218/003/  \n",
    "T1084はhttps://attack.mitre.org/techniques/T1546/003/  \n",
    "T1188はhttps://attack.mitre.org/techniques/T1090/003/  \n",
    "T1183はhttps://attack.mitre.org/techniques/T1546/012/  \n",
    "T1060はhttps://attack.mitre.org/techniques/T1547/001/  \n",
    "T1208はhttps://attack.mitre.org/techniques/T1558/003/  \n",
    "T1086はhttps://attack.mitre.org/techniques/T1059/001/  \n",
    "T1064はhttps://attack.mitre.org/techniques/T1059/001/  \n",
    "T0853はhttps://attack.mitre.org/techniques/T0853/  "
   ]
  },
  {
   "cell_type": "code",
   "execution_count": 5,
   "id": "a1827d43",
   "metadata": {},
   "outputs": [],
   "source": [
    "unused_techniques = [\n",
    "    'T1085', \n",
    "    'T1191', \n",
    "    'T1084',\n",
    "    'T1188', \n",
    "    'T1183', \n",
    "    'T1060', \n",
    "    'T1208',\n",
    "    'T1086', \n",
    "    'T1064', \n",
    "    'T0853'\n",
    "]"
   ]
  },
  {
   "cell_type": "code",
   "execution_count": 6,
   "id": "c11898a2",
   "metadata": {},
   "outputs": [],
   "source": [
    "## \n"
   ]
  },
  {
   "cell_type": "code",
   "execution_count": 7,
   "id": "4ed955a2",
   "metadata": {},
   "outputs": [
    {
     "data": {
      "text/plain": [
       "<bound method DataFrame.filter of shape: (5_889_339, 50)\n",
       "┌────────────┬───────┬────────────┬─────────┬───┬────────────┬────────────┬────────────┬───────────┐\n",
       "│ Id         ┆ OrgId ┆ IncidentId ┆ AlertId ┆ … ┆ is_prepara ┆ is_intrusi ┆ is_comprom ┆ alert_bit │\n",
       "│ ---        ┆ ---   ┆ ---        ┆ ---     ┆   ┆ tion_alert ┆ on_alert   ┆ ise_alert  ┆ _value    │\n",
       "│ i64        ┆ i64   ┆ i64        ┆ i64     ┆   ┆ ---        ┆ ---        ┆ ---        ┆ ---       │\n",
       "│            ┆       ┆            ┆         ┆   ┆ bool       ┆ bool       ┆ bool       ┆ i64       │\n",
       "╞════════════╪═══════╪════════════╪═════════╪═══╪════════════╪════════════╪════════════╪═══════════╡\n",
       "│ 1056561957 ┆ 809   ┆ 58352      ┆ 712507  ┆ … ┆ true       ┆ false      ┆ false      ┆ 1         │\n",
       "│ 389        ┆       ┆            ┆         ┆   ┆            ┆            ┆            ┆           │\n",
       "│ 1322849927 ┆ 11    ┆ 417400     ┆ 825450  ┆ … ┆ true       ┆ true       ┆ false      ┆ 3         │\n",
       "│ 433        ┆       ┆            ┆         ┆   ┆            ┆            ┆            ┆           │\n",
       "│ 7816840517 ┆ 2119  ┆ 6622       ┆ 23284   ┆ … ┆ true       ┆ false      ┆ false      ┆ 1         │\n",
       "│ 38         ┆       ┆            ┆         ┆   ┆            ┆            ┆            ┆           │\n",
       "│ 6356551633 ┆ 261   ┆ 110412     ┆ 41503   ┆ … ┆ false      ┆ true       ┆ false      ┆ 2         │\n",
       "│ 05         ┆       ┆            ┆         ┆   ┆            ┆            ┆            ┆           │\n",
       "│ 4294967328 ┆ 51    ┆ 84683      ┆ 134887  ┆ … ┆ false      ┆ true       ┆ false      ┆ 2         │\n",
       "│ 53         ┆       ┆            ┆         ┆   ┆            ┆            ┆            ┆           │\n",
       "│ …          ┆ …     ┆ …          ┆ …       ┆ … ┆ …          ┆ …          ┆ …          ┆ …         │\n",
       "│ 1632087585 ┆ 358   ┆ 121968     ┆ 217548  ┆ … ┆ true       ┆ false      ┆ false      ┆ 1         │\n",
       "│ 06         ┆       ┆            ┆         ┆   ┆            ┆            ┆            ┆           │\n",
       "│ 5411658811 ┆ 262   ┆ 3017       ┆ 227156  ┆ … ┆ true       ┆ false      ┆ false      ┆ 1         │\n",
       "│ 45         ┆       ┆            ┆         ┆   ┆            ┆            ┆            ┆           │\n",
       "│ 1297080124 ┆ 47    ┆ 3653       ┆ 7243    ┆ … ┆ false      ┆ true       ┆ false      ┆ 2         │\n",
       "│ 487        ┆       ┆            ┆         ┆   ┆            ┆            ┆            ┆           │\n",
       "│ 6270652268 ┆ 70    ┆ 4243       ┆ 19142   ┆ … ┆ true       ┆ false      ┆ false      ┆ 1         │\n",
       "│ 86         ┆       ┆            ┆         ┆   ┆            ┆            ┆            ┆           │\n",
       "│ 3264175165 ┆ 227   ┆ 8384       ┆ 33529   ┆ … ┆ true       ┆ false      ┆ false      ┆ 1         │\n",
       "│ 47         ┆       ┆            ┆         ┆   ┆            ┆            ┆            ┆           │\n",
       "└────────────┴───────┴────────────┴─────────┴───┴────────────┴────────────┴────────────┴───────────┘>"
      ]
     },
     "execution_count": 7,
     "metadata": {},
     "output_type": "execute_result"
    }
   ],
   "source": [
    "dataset.data.filter"
   ]
  }
 ],
 "metadata": {
  "kernelspec": {
   "display_name": "bayses-3UyvmeC2-py3.11",
   "language": "python",
   "name": "python3"
  },
  "language_info": {
   "codemirror_mode": {
    "name": "ipython",
    "version": 3
   },
   "file_extension": ".py",
   "mimetype": "text/x-python",
   "name": "python",
   "nbconvert_exporter": "python",
   "pygments_lexer": "ipython3",
   "version": "3.11.10"
  }
 },
 "nbformat": 4,
 "nbformat_minor": 5
}
