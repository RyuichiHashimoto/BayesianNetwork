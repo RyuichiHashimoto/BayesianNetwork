{
 "cells": [
  {
   "cell_type": "code",
   "execution_count": 1,
   "id": "000c4c2f-ecd8-4e9d-8f75-8a66b4537409",
   "metadata": {},
   "outputs": [],
   "source": [
    "import polars as pl\n",
    "from attack_predictor_libs.dataset.guide_dataset import GuideDataset"
   ]
  },
  {
   "cell_type": "markdown",
   "id": "7e4eacab",
   "metadata": {},
   "source": [
    "## 目的\n",
    "GUIDEデータセットには大量のデータがあるが、使用困難なデータもあると思われる。  \n"
   ]
  },
  {
   "cell_type": "code",
   "execution_count": 2,
   "id": "f0706aa3",
   "metadata": {},
   "outputs": [],
   "source": [
    "dataset = GuideDataset()"
   ]
  },
  {
   "cell_type": "markdown",
   "id": "9023eb49",
   "metadata": {},
   "source": [
    "## 学習用データ（TP, FP, BP全て含む)"
   ]
  },
  {
   "cell_type": "code",
   "execution_count": 3,
   "id": "d3700335",
   "metadata": {},
   "outputs": [],
   "source": [
    "train_df = dataset.data.filter(pl.col(\"dataset_type\") == 'train')\n",
    "incident_df = train_df.group_by(\"IncidentId\").agg([pl.col(\"is_preparation_alert\").any(), pl.col(\"is_intrusion_alert\").any(), pl.col(\"is_compromise_alert\").any()])\n",
    "incident_df =  incident_df.with_columns(    (\n",
    "            (pl.col(\"is_preparation_alert\").cast(int) *(2**0)) +  # is_preparation_alert をビット2にシフト\n",
    "            (pl.col(\"is_intrusion_alert\").cast(int) *(2**1)) +   # is_intrusion_alert をビット1にシフト\n",
    "            pl.col(\"is_compromise_alert\").cast(int)  *(2**2)           # is_compromise_alert をビット0に\n",
    "    ).alias(\"alert_bit_value\")\n",
    ")"
   ]
  },
  {
   "cell_type": "code",
   "execution_count": 4,
   "id": "4d929aef",
   "metadata": {},
   "outputs": [
    {
     "data": {
      "text/html": [
       "<div><style>\n",
       ".dataframe > thead > tr,\n",
       ".dataframe > tbody > tr {\n",
       "  text-align: right;\n",
       "  white-space: pre-wrap;\n",
       "}\n",
       "</style>\n",
       "<small>shape: (8, 2)</small><table border=\"1\" class=\"dataframe\"><thead><tr><th>alert_bit_value</th><th>count</th></tr><tr><td>i64</td><td>u32</td></tr></thead><tbody><tr><td>0</td><td>695</td></tr><tr><td>1</td><td>54347</td></tr><tr><td>2</td><td>20191</td></tr><tr><td>3</td><td>99721</td></tr><tr><td>4</td><td>1915</td></tr><tr><td>5</td><td>1005</td></tr><tr><td>6</td><td>1377</td></tr><tr><td>7</td><td>3801</td></tr></tbody></table></div>"
      ],
      "text/plain": [
       "shape: (8, 2)\n",
       "┌─────────────────┬───────┐\n",
       "│ alert_bit_value ┆ count │\n",
       "│ ---             ┆ ---   │\n",
       "│ i64             ┆ u32   │\n",
       "╞═════════════════╪═══════╡\n",
       "│ 0               ┆ 695   │\n",
       "│ 1               ┆ 54347 │\n",
       "│ 2               ┆ 20191 │\n",
       "│ 3               ┆ 99721 │\n",
       "│ 4               ┆ 1915  │\n",
       "│ 5               ┆ 1005  │\n",
       "│ 6               ┆ 1377  │\n",
       "│ 7               ┆ 3801  │\n",
       "└─────────────────┴───────┘"
      ]
     },
     "execution_count": 4,
     "metadata": {},
     "output_type": "execute_result"
    }
   ],
   "source": [
    "incident_df.group_by(\"alert_bit_value\").agg(pl.count(\"IncidentId\").alias(\"count\")).sort(\"alert_bit_value\")"
   ]
  },
  {
   "cell_type": "markdown",
   "id": "991ef9c0",
   "metadata": {},
   "source": [
    "## テスト用データ（TP, FP, BP全て含む)"
   ]
  },
  {
   "cell_type": "code",
   "execution_count": 5,
   "id": "9c377b07",
   "metadata": {},
   "outputs": [],
   "source": [
    "test_df = dataset.data.filter(pl.col(\"dataset_type\") == 'test')\n",
    "incident_df = test_df.group_by(\"IncidentId\").agg([pl.col(\"is_preparation_alert\").any(), pl.col(\"is_intrusion_alert\").any(), pl.col(\"is_compromise_alert\").any()])\n",
    "incident_df =  incident_df.with_columns(    (\n",
    "            (pl.col(\"is_preparation_alert\").cast(int) *(2**0)) +  # is_preparation_alert をビット2にシフト\n",
    "            (pl.col(\"is_intrusion_alert\").cast(int) *(2**1)) +   # is_intrusion_alert をビット1にシフト\n",
    "            pl.col(\"is_compromise_alert\").cast(int)  *(2**2)           # is_compromise_alert をビット0に\n",
    "    ).alias(\"alert_bit_value\")\n",
    ")"
   ]
  },
  {
   "cell_type": "code",
   "execution_count": 6,
   "id": "1fb8e636",
   "metadata": {},
   "outputs": [
    {
     "data": {
      "text/html": [
       "<div><style>\n",
       ".dataframe > thead > tr,\n",
       ".dataframe > tbody > tr {\n",
       "  text-align: right;\n",
       "  white-space: pre-wrap;\n",
       "}\n",
       "</style>\n",
       "<small>shape: (8, 2)</small><table border=\"1\" class=\"dataframe\"><thead><tr><th>alert_bit_value</th><th>count</th></tr><tr><td>i64</td><td>u32</td></tr></thead><tbody><tr><td>0</td><td>347</td></tr><tr><td>1</td><td>30872</td></tr><tr><td>2</td><td>12194</td></tr><tr><td>3</td><td>44535</td></tr><tr><td>4</td><td>1432</td></tr><tr><td>5</td><td>377</td></tr><tr><td>6</td><td>785</td></tr><tr><td>7</td><td>760</td></tr></tbody></table></div>"
      ],
      "text/plain": [
       "shape: (8, 2)\n",
       "┌─────────────────┬───────┐\n",
       "│ alert_bit_value ┆ count │\n",
       "│ ---             ┆ ---   │\n",
       "│ i64             ┆ u32   │\n",
       "╞═════════════════╪═══════╡\n",
       "│ 0               ┆ 347   │\n",
       "│ 1               ┆ 30872 │\n",
       "│ 2               ┆ 12194 │\n",
       "│ 3               ┆ 44535 │\n",
       "│ 4               ┆ 1432  │\n",
       "│ 5               ┆ 377   │\n",
       "│ 6               ┆ 785   │\n",
       "│ 7               ┆ 760   │\n",
       "└─────────────────┴───────┘"
      ]
     },
     "execution_count": 6,
     "metadata": {},
     "output_type": "execute_result"
    }
   ],
   "source": [
    "incident_df.group_by(\"alert_bit_value\").agg(pl.count(\"IncidentId\").alias(\"count\")).sort(\"alert_bit_value\")"
   ]
  },
  {
   "cell_type": "markdown",
   "id": "e99a5d60",
   "metadata": {},
   "source": [
    "## 学習用データ(True Positive)"
   ]
  },
  {
   "cell_type": "code",
   "execution_count": 7,
   "id": "eb882ad3",
   "metadata": {},
   "outputs": [
    {
     "data": {
      "text/html": [
       "<div><style>\n",
       ".dataframe > thead > tr,\n",
       ".dataframe > tbody > tr {\n",
       "  text-align: right;\n",
       "  white-space: pre-wrap;\n",
       "}\n",
       "</style>\n",
       "<small>shape: (5, 50)</small><table border=\"1\" class=\"dataframe\"><thead><tr><th>Id</th><th>OrgId</th><th>IncidentId</th><th>AlertId</th><th>Timestamp</th><th>DetectorId</th><th>AlertTitle</th><th>Category</th><th>MitreTechniques</th><th>IncidentGrade</th><th>ActionGrouped</th><th>ActionGranular</th><th>EntityType</th><th>EvidenceRole</th><th>DeviceId</th><th>Sha256</th><th>IpAddress</th><th>Url</th><th>AccountSid</th><th>AccountUpn</th><th>AccountObjectId</th><th>AccountName</th><th>DeviceName</th><th>NetworkMessageId</th><th>EmailClusterId</th><th>RegistryKey</th><th>RegistryValueName</th><th>RegistryValueData</th><th>ApplicationId</th><th>ApplicationName</th><th>OAuthApplicationId</th><th>ThreatFamily</th><th>FileName</th><th>FolderPath</th><th>ResourceIdName</th><th>ResourceType</th><th>Roles</th><th>OSFamily</th><th>OSVersion</th><th>AntispamDirection</th><th>SuspicionLevel</th><th>LastVerdict</th><th>CountryCode</th><th>State</th><th>City</th><th>dataset_type</th><th>is_preparation_alert</th><th>is_intrusion_alert</th><th>is_compromise_alert</th><th>alert_bit_value</th></tr><tr><td>i64</td><td>i64</td><td>i64</td><td>i64</td><td>datetime[μs]</td><td>i64</td><td>i64</td><td>str</td><td>str</td><td>str</td><td>str</td><td>str</td><td>str</td><td>str</td><td>i64</td><td>i64</td><td>i64</td><td>i64</td><td>i64</td><td>i64</td><td>i64</td><td>i64</td><td>i64</td><td>i64</td><td>str</td><td>i64</td><td>i64</td><td>i64</td><td>i64</td><td>i64</td><td>i64</td><td>str</td><td>i64</td><td>i64</td><td>i64</td><td>str</td><td>str</td><td>i64</td><td>i64</td><td>str</td><td>str</td><td>str</td><td>i64</td><td>i64</td><td>i64</td><td>str</td><td>bool</td><td>bool</td><td>bool</td><td>i64</td></tr></thead><tbody><tr><td>1056561957389</td><td>809</td><td>58352</td><td>712507</td><td>2024-06-13 04:52:55</td><td>423</td><td>298</td><td>&quot;InitialAccess&quot;</td><td>&quot;T1189&quot;</td><td>&quot;FalsePositive&quot;</td><td>null</td><td>null</td><td>&quot;Url&quot;</td><td>&quot;Related&quot;</td><td>98799</td><td>138268</td><td>360606</td><td>68652</td><td>441377</td><td>673934</td><td>425863</td><td>453297</td><td>153085</td><td>529644</td><td>null</td><td>1631</td><td>635</td><td>860</td><td>2251</td><td>3421</td><td>881</td><td>null</td><td>289573</td><td>117668</td><td>3586</td><td>null</td><td>null</td><td>5</td><td>66</td><td>null</td><td>&quot;Suspicious&quot;</td><td>&quot;Suspicious&quot;</td><td>242</td><td>1445</td><td>10630</td><td>&quot;train&quot;</td><td>true</td><td>false</td><td>false</td><td>1</td></tr><tr><td>1322849927433</td><td>11</td><td>417400</td><td>825450</td><td>2024-06-10 13:30:56</td><td>0</td><td>0</td><td>&quot;InitialAccess&quot;</td><td>&quot;T1078;T1078.004&quot;</td><td>&quot;FalsePositive&quot;</td><td>null</td><td>null</td><td>&quot;Ip&quot;</td><td>&quot;Related&quot;</td><td>98799</td><td>138268</td><td>30410</td><td>160396</td><td>441377</td><td>673934</td><td>425863</td><td>453297</td><td>153085</td><td>529644</td><td>null</td><td>1631</td><td>635</td><td>860</td><td>2251</td><td>3421</td><td>881</td><td>null</td><td>289573</td><td>117668</td><td>3586</td><td>null</td><td>null</td><td>5</td><td>66</td><td>null</td><td>null</td><td>null</td><td>8</td><td>6</td><td>3</td><td>&quot;train&quot;</td><td>true</td><td>true</td><td>false</td><td>3</td></tr><tr><td>781684051738</td><td>2119</td><td>6622</td><td>23284</td><td>2024-06-10 10:28:29</td><td>13</td><td>11</td><td>&quot;InitialAccess&quot;</td><td>&quot;T1566&quot;</td><td>&quot;BenignPositive&quot;</td><td>null</td><td>null</td><td>&quot;MailMessage&quot;</td><td>&quot;Related&quot;</td><td>98799</td><td>138268</td><td>360606</td><td>160396</td><td>441377</td><td>160691</td><td>425863</td><td>453297</td><td>153085</td><td>1842</td><td>null</td><td>1631</td><td>635</td><td>860</td><td>2251</td><td>3421</td><td>881</td><td>null</td><td>289573</td><td>117668</td><td>3586</td><td>null</td><td>null</td><td>5</td><td>66</td><td>null</td><td>null</td><td>null</td><td>242</td><td>1445</td><td>10630</td><td>&quot;train&quot;</td><td>true</td><td>false</td><td>false</td><td>1</td></tr><tr><td>635655163305</td><td>261</td><td>110412</td><td>41503</td><td>2024-06-03 17:05:40</td><td>1794</td><td>344</td><td>&quot;Collection&quot;</td><td>&quot;T1098;T1114&quot;</td><td>&quot;BenignPositive&quot;</td><td>null</td><td>null</td><td>&quot;User&quot;</td><td>&quot;Impacted&quot;</td><td>98799</td><td>138268</td><td>360606</td><td>160396</td><td>172996</td><td>268738</td><td>173595</td><td>184537</td><td>153085</td><td>529644</td><td>null</td><td>1631</td><td>635</td><td>860</td><td>2251</td><td>3421</td><td>881</td><td>null</td><td>289573</td><td>117668</td><td>3586</td><td>null</td><td>null</td><td>5</td><td>66</td><td>null</td><td>null</td><td>null</td><td>242</td><td>1445</td><td>10630</td><td>&quot;train&quot;</td><td>false</td><td>true</td><td>false</td><td>2</td></tr><tr><td>429496732853</td><td>51</td><td>84683</td><td>134887</td><td>2024-06-05 04:17:50</td><td>39</td><td>26</td><td>&quot;Execution&quot;</td><td>&quot;T1559;T1106;T1059.005&quot;</td><td>&quot;BenignPositive&quot;</td><td>null</td><td>null</td><td>&quot;File&quot;</td><td>&quot;Related&quot;</td><td>98799</td><td>4</td><td>360606</td><td>160396</td><td>441377</td><td>673934</td><td>425863</td><td>453297</td><td>153085</td><td>529644</td><td>null</td><td>1631</td><td>635</td><td>860</td><td>2251</td><td>3421</td><td>881</td><td>null</td><td>3</td><td>6</td><td>3586</td><td>null</td><td>null</td><td>5</td><td>66</td><td>null</td><td>null</td><td>null</td><td>242</td><td>1445</td><td>10630</td><td>&quot;train&quot;</td><td>false</td><td>true</td><td>false</td><td>2</td></tr></tbody></table></div>"
      ],
      "text/plain": [
       "shape: (5, 50)\n",
       "┌────────────┬───────┬────────────┬─────────┬───┬────────────┬────────────┬────────────┬───────────┐\n",
       "│ Id         ┆ OrgId ┆ IncidentId ┆ AlertId ┆ … ┆ is_prepara ┆ is_intrusi ┆ is_comprom ┆ alert_bit │\n",
       "│ ---        ┆ ---   ┆ ---        ┆ ---     ┆   ┆ tion_alert ┆ on_alert   ┆ ise_alert  ┆ _value    │\n",
       "│ i64        ┆ i64   ┆ i64        ┆ i64     ┆   ┆ ---        ┆ ---        ┆ ---        ┆ ---       │\n",
       "│            ┆       ┆            ┆         ┆   ┆ bool       ┆ bool       ┆ bool       ┆ i64       │\n",
       "╞════════════╪═══════╪════════════╪═════════╪═══╪════════════╪════════════╪════════════╪═══════════╡\n",
       "│ 1056561957 ┆ 809   ┆ 58352      ┆ 712507  ┆ … ┆ true       ┆ false      ┆ false      ┆ 1         │\n",
       "│ 389        ┆       ┆            ┆         ┆   ┆            ┆            ┆            ┆           │\n",
       "│ 1322849927 ┆ 11    ┆ 417400     ┆ 825450  ┆ … ┆ true       ┆ true       ┆ false      ┆ 3         │\n",
       "│ 433        ┆       ┆            ┆         ┆   ┆            ┆            ┆            ┆           │\n",
       "│ 7816840517 ┆ 2119  ┆ 6622       ┆ 23284   ┆ … ┆ true       ┆ false      ┆ false      ┆ 1         │\n",
       "│ 38         ┆       ┆            ┆         ┆   ┆            ┆            ┆            ┆           │\n",
       "│ 6356551633 ┆ 261   ┆ 110412     ┆ 41503   ┆ … ┆ false      ┆ true       ┆ false      ┆ 2         │\n",
       "│ 05         ┆       ┆            ┆         ┆   ┆            ┆            ┆            ┆           │\n",
       "│ 4294967328 ┆ 51    ┆ 84683      ┆ 134887  ┆ … ┆ false      ┆ true       ┆ false      ┆ 2         │\n",
       "│ 53         ┆       ┆            ┆         ┆   ┆            ┆            ┆            ┆           │\n",
       "└────────────┴───────┴────────────┴─────────┴───┴────────────┴────────────┴────────────┴───────────┘"
      ]
     },
     "execution_count": 7,
     "metadata": {},
     "output_type": "execute_result"
    }
   ],
   "source": [
    "dataset.data.head()"
   ]
  },
  {
   "cell_type": "code",
   "execution_count": 1,
   "id": "bc3ead59",
   "metadata": {},
   "outputs": [
    {
     "ename": "NameError",
     "evalue": "name 'dataset' is not defined",
     "output_type": "error",
     "traceback": [
      "\u001b[0;31m---------------------------------------------------------------------------\u001b[0m",
      "\u001b[0;31mNameError\u001b[0m                                 Traceback (most recent call last)",
      "Cell \u001b[0;32mIn[1], line 1\u001b[0m\n\u001b[0;32m----> 1\u001b[0m train_df \u001b[38;5;241m=\u001b[39m \u001b[43mdataset\u001b[49m\u001b[38;5;241m.\u001b[39mdata\u001b[38;5;241m.\u001b[39mfilter(pl\u001b[38;5;241m.\u001b[39mcol(\u001b[38;5;124m\"\u001b[39m\u001b[38;5;124mdataset_type\u001b[39m\u001b[38;5;124m\"\u001b[39m) \u001b[38;5;241m==\u001b[39m \u001b[38;5;124m'\u001b[39m\u001b[38;5;124mtrain\u001b[39m\u001b[38;5;124m'\u001b[39m)\u001b[38;5;241m.\u001b[39mfilter(pl\u001b[38;5;241m.\u001b[39mcol(\u001b[38;5;124m\"\u001b[39m\u001b[38;5;124mIncidentGrade\u001b[39m\u001b[38;5;124m\"\u001b[39m)\u001b[38;5;241m.\u001b[39mis_in([\u001b[38;5;124m\"\u001b[39m\u001b[38;5;124mTruePositive\u001b[39m\u001b[38;5;124m\"\u001b[39m]) )\n\u001b[1;32m      2\u001b[0m incident_df \u001b[38;5;241m=\u001b[39m train_df\u001b[38;5;241m.\u001b[39mgroup_by(\u001b[38;5;124m\"\u001b[39m\u001b[38;5;124mIncidentId\u001b[39m\u001b[38;5;124m\"\u001b[39m)\u001b[38;5;241m.\u001b[39magg([pl\u001b[38;5;241m.\u001b[39mcol(\u001b[38;5;124m\"\u001b[39m\u001b[38;5;124mis_preparation_alert\u001b[39m\u001b[38;5;124m\"\u001b[39m)\u001b[38;5;241m.\u001b[39many(), pl\u001b[38;5;241m.\u001b[39mcol(\u001b[38;5;124m\"\u001b[39m\u001b[38;5;124mis_intrusion_alert\u001b[39m\u001b[38;5;124m\"\u001b[39m)\u001b[38;5;241m.\u001b[39many(), pl\u001b[38;5;241m.\u001b[39mcol(\u001b[38;5;124m\"\u001b[39m\u001b[38;5;124mis_compromise_alert\u001b[39m\u001b[38;5;124m\"\u001b[39m)\u001b[38;5;241m.\u001b[39many()])\n\u001b[1;32m      3\u001b[0m incident_df \u001b[38;5;241m=\u001b[39m  incident_df\u001b[38;5;241m.\u001b[39mwith_columns(    (\n\u001b[1;32m      4\u001b[0m             (pl\u001b[38;5;241m.\u001b[39mcol(\u001b[38;5;124m\"\u001b[39m\u001b[38;5;124mis_preparation_alert\u001b[39m\u001b[38;5;124m\"\u001b[39m)\u001b[38;5;241m.\u001b[39mcast(\u001b[38;5;28mint\u001b[39m) \u001b[38;5;241m*\u001b[39m(\u001b[38;5;241m2\u001b[39m\u001b[38;5;241m*\u001b[39m\u001b[38;5;241m*\u001b[39m\u001b[38;5;241m0\u001b[39m)) \u001b[38;5;241m+\u001b[39m  \u001b[38;5;66;03m# is_preparation_alert をビット2にシフト\u001b[39;00m\n\u001b[1;32m      5\u001b[0m             (pl\u001b[38;5;241m.\u001b[39mcol(\u001b[38;5;124m\"\u001b[39m\u001b[38;5;124mis_intrusion_alert\u001b[39m\u001b[38;5;124m\"\u001b[39m)\u001b[38;5;241m.\u001b[39mcast(\u001b[38;5;28mint\u001b[39m) \u001b[38;5;241m*\u001b[39m(\u001b[38;5;241m2\u001b[39m\u001b[38;5;241m*\u001b[39m\u001b[38;5;241m*\u001b[39m\u001b[38;5;241m1\u001b[39m)) \u001b[38;5;241m+\u001b[39m   \u001b[38;5;66;03m# is_intrusion_alert をビット1にシフト\u001b[39;00m\n\u001b[1;32m      6\u001b[0m             pl\u001b[38;5;241m.\u001b[39mcol(\u001b[38;5;124m\"\u001b[39m\u001b[38;5;124mis_compromise_alert\u001b[39m\u001b[38;5;124m\"\u001b[39m)\u001b[38;5;241m.\u001b[39mcast(\u001b[38;5;28mint\u001b[39m)  \u001b[38;5;241m*\u001b[39m(\u001b[38;5;241m2\u001b[39m\u001b[38;5;241m*\u001b[39m\u001b[38;5;241m*\u001b[39m\u001b[38;5;241m2\u001b[39m)           \u001b[38;5;66;03m# is_compromise_alert をビット0に\u001b[39;00m\n\u001b[1;32m      7\u001b[0m     )\u001b[38;5;241m.\u001b[39malias(\u001b[38;5;124m\"\u001b[39m\u001b[38;5;124malert_bit_value\u001b[39m\u001b[38;5;124m\"\u001b[39m)\n\u001b[1;32m      8\u001b[0m )\n",
      "\u001b[0;31mNameError\u001b[0m: name 'dataset' is not defined"
     ]
    }
   ],
   "source": [
    "train_df = dataset.data.filter(pl.col(\"dataset_type\") == 'train').filter(pl.col(\"IncidentGrade\").is_in([\"TruePositive\"]) )\n",
    "incident_df = train_df.group_by(\"IncidentId\").agg([pl.col(\"is_preparation_alert\").any(), pl.col(\"is_intrusion_alert\").any(), pl.col(\"is_compromise_alert\").any()])\n",
    "incident_df =  incident_df.with_columns(    (\n",
    "            (pl.col(\"is_preparation_alert\").cast(int) *(2**0)) +  # is_preparation_alert をビット2にシフト\n",
    "            (pl.col(\"is_intrusion_alert\").cast(int) *(2**1)) +   # is_intrusion_alert をビット1にシフト\n",
    "            pl.col(\"is_compromise_alert\").cast(int)  *(2**2)           # is_compromise_alert をビット0に\n",
    "    ).alias(\"alert_bit_value\")\n",
    ")"
   ]
  },
  {
   "cell_type": "code",
   "execution_count": 9,
   "id": "8152495e",
   "metadata": {},
   "outputs": [
    {
     "data": {
      "text/html": [
       "<div><style>\n",
       ".dataframe > thead > tr,\n",
       ".dataframe > tbody > tr {\n",
       "  text-align: right;\n",
       "  white-space: pre-wrap;\n",
       "}\n",
       "</style>\n",
       "<small>shape: (8, 2)</small><table border=\"1\" class=\"dataframe\"><thead><tr><th>alert_bit_value</th><th>count</th></tr><tr><td>i64</td><td>u32</td></tr></thead><tbody><tr><td>0</td><td>683</td></tr><tr><td>1</td><td>58145</td></tr><tr><td>2</td><td>19321</td></tr><tr><td>3</td><td>29420</td></tr><tr><td>4</td><td>2360</td></tr><tr><td>5</td><td>1241</td></tr><tr><td>6</td><td>1776</td></tr><tr><td>7</td><td>1947</td></tr></tbody></table></div>"
      ],
      "text/plain": [
       "shape: (8, 2)\n",
       "┌─────────────────┬───────┐\n",
       "│ alert_bit_value ┆ count │\n",
       "│ ---             ┆ ---   │\n",
       "│ i64             ┆ u32   │\n",
       "╞═════════════════╪═══════╡\n",
       "│ 0               ┆ 683   │\n",
       "│ 1               ┆ 58145 │\n",
       "│ 2               ┆ 19321 │\n",
       "│ 3               ┆ 29420 │\n",
       "│ 4               ┆ 2360  │\n",
       "│ 5               ┆ 1241  │\n",
       "│ 6               ┆ 1776  │\n",
       "│ 7               ┆ 1947  │\n",
       "└─────────────────┴───────┘"
      ]
     },
     "execution_count": 9,
     "metadata": {},
     "output_type": "execute_result"
    }
   ],
   "source": [
    "incident_df.group_by(\"alert_bit_value\").agg(pl.count(\"IncidentId\").alias(\"count\")).sort(\"alert_bit_value\")"
   ]
  },
  {
   "cell_type": "markdown",
   "id": "363c60ae",
   "metadata": {},
   "source": [
    "## テスト用データ(True Positive and Benign Positive)"
   ]
  },
  {
   "cell_type": "code",
   "execution_count": 10,
   "id": "b1f4227c",
   "metadata": {},
   "outputs": [],
   "source": [
    "test_df = dataset.data.filter(pl.col(\"dataset_type\") == 'test').filter(pl.col(\"IncidentGrade\").is_in([\"TruePositive\"]) )\n",
    "incident_df = test_df.group_by(\"IncidentId\").agg([pl.col(\"is_preparation_alert\").any(), pl.col(\"is_intrusion_alert\").any(), pl.col(\"is_compromise_alert\").any()])\n",
    "incident_df =  incident_df.with_columns(    (\n",
    "            (pl.col(\"is_preparation_alert\").cast(int) *(2**0)) +  # is_preparation_alert をビット2にシフト\n",
    "            (pl.col(\"is_intrusion_alert\").cast(int) *(2**1)) +   # is_intrusion_alert をビット1にシフト\n",
    "            pl.col(\"is_compromise_alert\").cast(int)  *(2**2)           # is_compromise_alert をビット0に\n",
    "    ).alias(\"alert_bit_value\")\n",
    ")"
   ]
  },
  {
   "cell_type": "code",
   "execution_count": 11,
   "id": "be379506",
   "metadata": {},
   "outputs": [
    {
     "data": {
      "text/html": [
       "<div><style>\n",
       ".dataframe > thead > tr,\n",
       ".dataframe > tbody > tr {\n",
       "  text-align: right;\n",
       "  white-space: pre-wrap;\n",
       "}\n",
       "</style>\n",
       "<small>shape: (8, 2)</small><table border=\"1\" class=\"dataframe\"><thead><tr><th>alert_bit_value</th><th>count</th></tr><tr><td>i64</td><td>u32</td></tr></thead><tbody><tr><td>0</td><td>341</td></tr><tr><td>1</td><td>30058</td></tr><tr><td>2</td><td>10530</td></tr><tr><td>3</td><td>12104</td></tr><tr><td>4</td><td>1572</td></tr><tr><td>5</td><td>355</td></tr><tr><td>6</td><td>835</td></tr><tr><td>7</td><td>348</td></tr></tbody></table></div>"
      ],
      "text/plain": [
       "shape: (8, 2)\n",
       "┌─────────────────┬───────┐\n",
       "│ alert_bit_value ┆ count │\n",
       "│ ---             ┆ ---   │\n",
       "│ i64             ┆ u32   │\n",
       "╞═════════════════╪═══════╡\n",
       "│ 0               ┆ 341   │\n",
       "│ 1               ┆ 30058 │\n",
       "│ 2               ┆ 10530 │\n",
       "│ 3               ┆ 12104 │\n",
       "│ 4               ┆ 1572  │\n",
       "│ 5               ┆ 355   │\n",
       "│ 6               ┆ 835   │\n",
       "│ 7               ┆ 348   │\n",
       "└─────────────────┴───────┘"
      ]
     },
     "execution_count": 11,
     "metadata": {},
     "output_type": "execute_result"
    }
   ],
   "source": [
    "incident_df.group_by(\"alert_bit_value\").agg(pl.count(\"IncidentId\").alias(\"count\")).sort(\"alert_bit_value\")"
   ]
  },
  {
   "cell_type": "markdown",
   "id": "87b4ac55",
   "metadata": {},
   "source": [
    "## インシデントIDの重複確認"
   ]
  },
  {
   "cell_type": "code",
   "execution_count": 12,
   "id": "afaeb8ef",
   "metadata": {},
   "outputs": [],
   "source": [
    "train_incident_Id_set = set(dataset.data.filter(pl.col(\"dataset_type\") == 'train').get_column(\"IncidentId\").to_list())\n",
    "test_incident_Id_set = set(dataset.data.filter(pl.col(\"dataset_type\") == 'test').get_column(\"IncidentId\").to_list())"
   ]
  },
  {
   "cell_type": "code",
   "execution_count": 13,
   "id": "f4da19e6",
   "metadata": {},
   "outputs": [
    {
     "name": "stdout",
     "output_type": "stream",
     "text": [
      "共通Incident ID= 36088\n"
     ]
    }
   ],
   "source": [
    "print(f\"共通Incident ID= {len(train_incident_Id_set & test_incident_Id_set)}\")"
   ]
  },
  {
   "cell_type": "code",
   "execution_count": null,
   "id": "633e91b9",
   "metadata": {},
   "outputs": [],
   "source": []
  }
 ],
 "metadata": {
  "kernelspec": {
   "display_name": "bayses-3UyvmeC2-py3.11",
   "language": "python",
   "name": "python3"
  },
  "language_info": {
   "codemirror_mode": {
    "name": "ipython",
    "version": 3
   },
   "file_extension": ".py",
   "mimetype": "text/x-python",
   "name": "python",
   "nbconvert_exporter": "python",
   "pygments_lexer": "ipython3",
   "version": "3.11.10"
  }
 },
 "nbformat": 4,
 "nbformat_minor": 5
}
