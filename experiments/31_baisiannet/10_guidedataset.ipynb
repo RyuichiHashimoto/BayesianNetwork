{
 "cells": [
  {
   "cell_type": "code",
   "execution_count": 15,
   "id": "265d376d",
   "metadata": {},
   "outputs": [],
   "source": [
    "import polars as pl\n",
    "from attack_predictor_libs.dataset.guide_dataset import GuideDataset"
   ]
  },
  {
   "cell_type": "code",
   "execution_count": 6,
   "metadata": {},
   "outputs": [],
   "source": [
    "dataset = GuideDataset()"
   ]
  },
  {
   "cell_type": "code",
   "execution_count": 35,
   "id": "36ce2614",
   "metadata": {},
   "outputs": [],
   "source": [
    "df = dataset.data\n",
    "df = df.with_columns((pl.col(\"dataset_type\") + \"_\" + pl.col(\"OrgId\").cast(str) + \"_\" + pl.col(\"IncidentId\").cast(str)).alias(\"unique_id\"))\n",
    "df = df.drop_nulls(\"IncidentGrade\")"
   ]
  },
  {
   "cell_type": "code",
   "execution_count": 46,
   "id": "f6032020",
   "metadata": {},
   "outputs": [
    {
     "name": "stderr",
     "output_type": "stream",
     "text": [
      "/tmp/ipykernel_580552/2464090380.py:1: DeprecationWarning: `aggregate_function='count'` input for `pivot` is deprecated. Please use `aggregate_function='len'`.\n",
      "  pivot_df = df.pivot(\n"
     ]
    }
   ],
   "source": [
    "pivot_df = df.pivot(\n",
    "    index = \"unique_id\",\n",
    "    values = \"IncidentGrade\",\n",
    "    on = \"IncidentGrade\",\n",
    "    aggregate_function = \"count\"\n",
    ").fill_null(0)"
   ]
  },
  {
   "cell_type": "code",
   "execution_count": 48,
   "id": "04882760",
   "metadata": {},
   "outputs": [
    {
     "data": {
      "text/html": [
       "<div><style>\n",
       ".dataframe > thead > tr,\n",
       ".dataframe > tbody > tr {\n",
       "  text-align: right;\n",
       "  white-space: pre-wrap;\n",
       "}\n",
       "</style>\n",
       "<small>shape: (5, 4)</small><table border=\"1\" class=\"dataframe\"><thead><tr><th>unique_id</th><th>FalsePositive</th><th>BenignPositive</th><th>TruePositive</th></tr><tr><td>str</td><td>u32</td><td>u32</td><td>u32</td></tr></thead><tbody><tr><td>&quot;train_809_58352&quot;</td><td>17</td><td>0</td><td>0</td></tr><tr><td>&quot;train_11_417400&quot;</td><td>4</td><td>0</td><td>0</td></tr><tr><td>&quot;train_2119_6622&quot;</td><td>0</td><td>23</td><td>0</td></tr><tr><td>&quot;train_261_110412&quot;</td><td>0</td><td>10</td><td>0</td></tr><tr><td>&quot;train_51_84683&quot;</td><td>0</td><td>5</td><td>0</td></tr></tbody></table></div>"
      ],
      "text/plain": [
       "shape: (5, 4)\n",
       "┌──────────────────┬───────────────┬────────────────┬──────────────┐\n",
       "│ unique_id        ┆ FalsePositive ┆ BenignPositive ┆ TruePositive │\n",
       "│ ---              ┆ ---           ┆ ---            ┆ ---          │\n",
       "│ str              ┆ u32           ┆ u32            ┆ u32          │\n",
       "╞══════════════════╪═══════════════╪════════════════╪══════════════╡\n",
       "│ train_809_58352  ┆ 17            ┆ 0              ┆ 0            │\n",
       "│ train_11_417400  ┆ 4             ┆ 0              ┆ 0            │\n",
       "│ train_2119_6622  ┆ 0             ┆ 23             ┆ 0            │\n",
       "│ train_261_110412 ┆ 0             ┆ 10             ┆ 0            │\n",
       "│ train_51_84683   ┆ 0             ┆ 5              ┆ 0            │\n",
       "└──────────────────┴───────────────┴────────────────┴──────────────┘"
      ]
     },
     "execution_count": 48,
     "metadata": {},
     "output_type": "execute_result"
    }
   ],
   "source": [
    "pivot_df.head()"
   ]
  },
  {
   "cell_type": "code",
   "execution_count": 54,
   "id": "00cc27dc",
   "metadata": {},
   "outputs": [],
   "source": [
    "pivot_df = pivot_df.with_columns(\n",
    "    (pl.col(\"FalsePositive\").cast(pl.Int32) + pl.col(\"TruePositive\").cast(pl.Int32) + pl.col(\"BenignPositive\").cast(pl.Int32)).alias(\"total\"),\n",
    ").with_columns(\n",
    "    (pl.col(\"FalsePositive\").cast(pl.Int32)/ pl.col(\"total\")).alias(\"FalsePositiveRate\"),\n",
    "    (pl.col(\"TruePositive\").cast(pl.Int32)/ pl.col(\"total\")).alias(\"TruePositiveRate\"),\n",
    "    (pl.col(\"BenignPositive\").cast(pl.Int32)/ pl.col(\"total\")).alias(\"BenignPositiveRate\"),\n",
    ")"
   ]
  },
  {
   "cell_type": "code",
   "execution_count": 68,
   "id": "963b4b9b",
   "metadata": {},
   "outputs": [],
   "source": [
    "sorted_pivot = pivot_df.sort(\"FalsePositiveRate\", descending = True)"
   ]
  },
  {
   "cell_type": "code",
   "execution_count": 80,
   "id": "029602db",
   "metadata": {},
   "outputs": [
    {
     "data": {
      "text/plain": [
       "(355584, 8)"
      ]
     },
     "execution_count": 80,
     "metadata": {},
     "output_type": "execute_result"
    }
   ],
   "source": [
    "sorted_pivot.shape"
   ]
  },
  {
   "cell_type": "code",
   "execution_count": 81,
   "id": "4e9ddba5",
   "metadata": {},
   "outputs": [
    {
     "data": {
      "text/plain": [
       "<BarContainer object of 10000 artists>"
      ]
     },
     "execution_count": 81,
     "metadata": {},
     "output_type": "execute_result"
    },
    {
     "data": {
      "image/png": "[encoded data removed]",
      "text/plain": [
       "<Figure size 640x480 with 1 Axes>"
      ]
     },
     "metadata": {},
     "output_type": "display_data"
    }
   ],
   "source": [
    "import matplotlib.pyplot as plt\n",
    "import seaborn as sns\n",
    "import numpy as np\n",
    "# .to_pandas().plot(kind = \"bar\", x = \"unique_id\", y = [\"FalsePositiveRate\", \"TruePositiveRate\", \"BenignPositiveRate\"], stacked = True)\n",
    "# ヒストグラム用のバケット\n",
    "bins = 20\n",
    "\n",
    "# ヒストグラムを計算\n",
    "hist, bin_edges = np.histogram(data, bins=bins)\n",
    "\n",
    "# 棒グラフを作成\n",
    "plt.bar(bin_edges[:-1], hist, width=(bin_edges[1] - bin_edges[0]))\n",
    "plt.show()"
   ]
  },
  {
   "cell_type": "code",
   "execution_count": 67,
   "id": "f3685b82",
   "metadata": {},
   "outputs": [
    {
     "data": {
      "text/plain": [
       "['train_809_58352',\n",
       " 'train_11_417400',\n",
       " 'train_4_2640',\n",
       " 'train_206_251904',\n",
       " 'train_4_2624']"
      ]
     },
     "execution_count": 67,
     "metadata": {},
     "output_type": "execute_result"
    }
   ],
   "source": [
    "\n",
    "\n"
   ]
  },
  {
   "cell_type": "code",
   "execution_count": null,
   "id": "73f1bb58",
   "metadata": {},
   "outputs": [],
   "source": [
    "import matplotlib.pyplot as plt\n",
    "import numpy as np\n",
    "\n",
    "# 例: データフレームの列\n",
    "unique_ids = [\"ID1\", \"ID2\", \"ID3\"]  # X軸ラベル\n",
    "false_positive = [1.0, 1.0, 0.0]\n",
    "true_positive = [0.0, 0.0, 0.0]\n",
    "benign_positive = [0.0, 0.0, 1.0]\n",
    "\n",
    "# データを積み上げ棒グラフとしてプロット\n",
    "width = 0.6  # 棒の幅\n",
    "x = np.arange(len(unique_ids))\n",
    "\n",
    "plt.bar(x, false_positive, width, label=\"FalsePositiveRate\", color=\"red\")\n",
    "plt.bar(x, true_positive, width, bottom=false_positive, label=\"TruePositiveRate\", color=\"green\")\n",
    "plt.bar(x, benign_positive, width, bottom=np.array(false_positive)+np.array(true_positive), label=\"BenignPositiveRate\", color=\"blue\")\n",
    "\n",
    "plt.xticks(x, unique_ids)\n",
    "plt.xlabel(\"Unique ID\")\n",
    "plt.ylabel(\"Rate\")\n",
    "plt.title(\"Stacked Bar Chart for Incident Rates\")\n",
    "plt.legend()\n",
    "plt.show()"
   ]
  },
  {
   "cell_type": "code",
   "execution_count": 55,
   "id": "8080843f",
   "metadata": {},
   "outputs": [
    {
     "data": {
      "image/png": "[encoded data removed]",
      "text/plain": [
       "<Figure size 640x480 with 2 Axes>"
      ]
     },
     "metadata": {},
     "output_type": "display_data"
    }
   ],
   "source": [
    "import seaborn as sns\n",
    "import matplotlib.pyplot as plt\n",
    "\n",
    "# データフレームを整形\n",
    "# heatmap_data = df.pivot(index=\"unique_id\", columns=\"IncidentGrade\", values=\"FalsePositiveRate\")\n",
    "\n",
    "# ヒートマップ描画\n",
    "sns.heatmap(pivot_df.select([\"FalsePositiveRate\", \"TruePositiveRate\", \"BenignPositiveRate\"]), cmap=\"coolwarm\")\n",
    "plt.show()"
   ]
  },
  {
   "cell_type": "code",
   "execution_count": 23,
   "id": "3d69693e",
   "metadata": {},
   "outputs": [
    {
     "data": {
      "text/html": [
       "<div><style>\n",
       ".dataframe > thead > tr,\n",
       ".dataframe > tbody > tr {\n",
       "  text-align: right;\n",
       "  white-space: pre-wrap;\n",
       "}\n",
       "</style>\n",
       "<small>shape: (5_889_339, 2)</small><table border=\"1\" class=\"dataframe\"><thead><tr><th>unique_id</th><th>IncidentGrade</th></tr><tr><td>str</td><td>str</td></tr></thead><tbody><tr><td>&quot;train_809_58352&quot;</td><td>&quot;FalsePositive&quot;</td></tr><tr><td>&quot;train_11_417400&quot;</td><td>&quot;FalsePositive&quot;</td></tr><tr><td>&quot;train_2119_6622&quot;</td><td>&quot;BenignPositive&quot;</td></tr><tr><td>&quot;train_261_110412&quot;</td><td>&quot;BenignPositive&quot;</td></tr><tr><td>&quot;train_51_84683&quot;</td><td>&quot;BenignPositive&quot;</td></tr><tr><td>&hellip;</td><td>&hellip;</td></tr><tr><td>&quot;test_358_121968&quot;</td><td>&quot;FalsePositive&quot;</td></tr><tr><td>&quot;test_262_3017&quot;</td><td>&quot;BenignPositive&quot;</td></tr><tr><td>&quot;test_47_3653&quot;</td><td>&quot;FalsePositive&quot;</td></tr><tr><td>&quot;test_70_4243&quot;</td><td>&quot;BenignPositive&quot;</td></tr><tr><td>&quot;test_227_8384&quot;</td><td>&quot;TruePositive&quot;</td></tr></tbody></table></div>"
      ],
      "text/plain": [
       "shape: (5_889_339, 2)\n",
       "┌──────────────────┬────────────────┐\n",
       "│ unique_id        ┆ IncidentGrade  │\n",
       "│ ---              ┆ ---            │\n",
       "│ str              ┆ str            │\n",
       "╞══════════════════╪════════════════╡\n",
       "│ train_809_58352  ┆ FalsePositive  │\n",
       "│ train_11_417400  ┆ FalsePositive  │\n",
       "│ train_2119_6622  ┆ BenignPositive │\n",
       "│ train_261_110412 ┆ BenignPositive │\n",
       "│ train_51_84683   ┆ BenignPositive │\n",
       "│ …                ┆ …              │\n",
       "│ test_358_121968  ┆ FalsePositive  │\n",
       "│ test_262_3017    ┆ BenignPositive │\n",
       "│ test_47_3653     ┆ FalsePositive  │\n",
       "│ test_70_4243     ┆ BenignPositive │\n",
       "│ test_227_8384    ┆ TruePositive   │\n",
       "└──────────────────┴────────────────┘"
      ]
     },
     "execution_count": 23,
     "metadata": {},
     "output_type": "execute_result"
    }
   ],
   "source": [
    "df.select(pl.col(\"unique_id\"), pl.col(\"IncidentGrade\"))"
   ]
  },
  {
   "cell_type": "code",
   "execution_count": 20,
   "id": "5139bce6",
   "metadata": {},
   "outputs": [],
   "source": []
  },
  {
   "cell_type": "code",
   "execution_count": null,
   "id": "3ee4ddc3",
   "metadata": {},
   "outputs": [],
   "source": [
    "df.filtera"
   ]
  }
 ],
 "metadata": {
  "kernelspec": {
   "display_name": ".venv",
   "language": "python",
   "name": "python3"
  },
  "language_info": {
   "codemirror_mode": {
    "name": "ipython",
    "version": 3
   },
   "file_extension": ".py",
   "mimetype": "text/x-python",
   "name": "python",
   "nbconvert_exporter": "python",
   "pygments_lexer": "ipython3",
   "version": "3.11.10"
  }
 },
 "nbformat": 4,
 "nbformat_minor": 5
}
