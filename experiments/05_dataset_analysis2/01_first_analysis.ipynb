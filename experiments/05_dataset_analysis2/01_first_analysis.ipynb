{
 "cells": [
  {
   "cell_type": "code",
   "execution_count": 2,
   "id": "000c4c2f-ecd8-4e9d-8f75-8a66b4537409",
   "metadata": {},
   "outputs": [],
   "source": [
    "from attack_predictor_libs.dataset.guide_dataset import GuideDataset\n",
    "import polars as pl\n",
    "from attack_predictor_libs.visualize.scenario_visualizer import visualize_scenario\n",
    "from tqdm import tqdm"
   ]
  },
  {
   "cell_type": "markdown",
   "id": "7e4eacab",
   "metadata": {},
   "source": [
    "## 仮説検証内容\n",
    "仮説：攻撃は、Preparation, Intrusion, Compromiseのこの３つの順番に処理が進んでいる。\n",
    "この仮説が正しいか検証する。  "
   ]
  },
  {
   "cell_type": "markdown",
   "id": "e639ee4c",
   "metadata": {},
   "source": [
    "### 仮説検証 (Trainデータ)"
   ]
  },
  {
   "cell_type": "code",
   "execution_count": 3,
   "id": "f0706aa3",
   "metadata": {},
   "outputs": [],
   "source": [
    "dataset = GuideDataset()"
   ]
  },
  {
   "cell_type": "code",
   "execution_count": 31,
   "id": "e6745a29",
   "metadata": {},
   "outputs": [],
   "source": [
    "df_polars = dataset.data.filter(pl.col(\"IncidentGrade\") == \"TruePositive\").sort(\"Timestamp\")"
   ]
  },
  {
   "cell_type": "code",
   "execution_count": 32,
   "id": "2386ba49",
   "metadata": {},
   "outputs": [],
   "source": [
    "df = df_polars.to_pandas()"
   ]
  },
  {
   "cell_type": "code",
   "execution_count": 33,
   "id": "a864593a",
   "metadata": {},
   "outputs": [
    {
     "data": {
      "text/html": [
       "<div>\n",
       "<style scoped>\n",
       "    .dataframe tbody tr th:only-of-type {\n",
       "        vertical-align: middle;\n",
       "    }\n",
       "\n",
       "    .dataframe tbody tr th {\n",
       "        vertical-align: top;\n",
       "    }\n",
       "\n",
       "    .dataframe thead th {\n",
       "        text-align: right;\n",
       "    }\n",
       "</style>\n",
       "<table border=\"1\" class=\"dataframe\">\n",
       "  <thead>\n",
       "    <tr style=\"text-align: right;\">\n",
       "      <th></th>\n",
       "      <th>Id</th>\n",
       "      <th>OrgId</th>\n",
       "      <th>IncidentId</th>\n",
       "      <th>AlertId</th>\n",
       "      <th>Timestamp</th>\n",
       "      <th>DetectorId</th>\n",
       "      <th>AlertTitle</th>\n",
       "      <th>Category</th>\n",
       "      <th>MitreTechniques</th>\n",
       "      <th>IncidentGrade</th>\n",
       "      <th>...</th>\n",
       "      <th>SuspicionLevel</th>\n",
       "      <th>LastVerdict</th>\n",
       "      <th>CountryCode</th>\n",
       "      <th>State</th>\n",
       "      <th>City</th>\n",
       "      <th>dataset_type</th>\n",
       "      <th>is_preparation_alert</th>\n",
       "      <th>is_intrusion_alert</th>\n",
       "      <th>is_compromise_alert</th>\n",
       "      <th>alert_bit_value</th>\n",
       "    </tr>\n",
       "  </thead>\n",
       "  <tbody>\n",
       "    <tr>\n",
       "      <th>0</th>\n",
       "      <td>111669151346</td>\n",
       "      <td>1033</td>\n",
       "      <td>104748</td>\n",
       "      <td>915835</td>\n",
       "      <td>2023-12-08 12:34:50</td>\n",
       "      <td>0</td>\n",
       "      <td>0</td>\n",
       "      <td>InitialAccess</td>\n",
       "      <td>T1078;T1078.004</td>\n",
       "      <td>TruePositive</td>\n",
       "      <td>...</td>\n",
       "      <td>None</td>\n",
       "      <td>None</td>\n",
       "      <td>0</td>\n",
       "      <td>22</td>\n",
       "      <td>41</td>\n",
       "      <td>train</td>\n",
       "      <td>True</td>\n",
       "      <td>True</td>\n",
       "      <td>False</td>\n",
       "      <td>3</td>\n",
       "    </tr>\n",
       "    <tr>\n",
       "      <th>1</th>\n",
       "      <td>111669151346</td>\n",
       "      <td>1033</td>\n",
       "      <td>104748</td>\n",
       "      <td>915835</td>\n",
       "      <td>2023-12-08 12:34:50</td>\n",
       "      <td>0</td>\n",
       "      <td>0</td>\n",
       "      <td>InitialAccess</td>\n",
       "      <td>T1078;T1078.004</td>\n",
       "      <td>TruePositive</td>\n",
       "      <td>...</td>\n",
       "      <td>None</td>\n",
       "      <td>None</td>\n",
       "      <td>242</td>\n",
       "      <td>1445</td>\n",
       "      <td>10630</td>\n",
       "      <td>train</td>\n",
       "      <td>True</td>\n",
       "      <td>True</td>\n",
       "      <td>False</td>\n",
       "      <td>3</td>\n",
       "    </tr>\n",
       "    <tr>\n",
       "      <th>2</th>\n",
       "      <td>111669151346</td>\n",
       "      <td>1033</td>\n",
       "      <td>104748</td>\n",
       "      <td>915835</td>\n",
       "      <td>2023-12-08 12:34:50</td>\n",
       "      <td>0</td>\n",
       "      <td>0</td>\n",
       "      <td>InitialAccess</td>\n",
       "      <td>T1078;T1078.004</td>\n",
       "      <td>TruePositive</td>\n",
       "      <td>...</td>\n",
       "      <td>None</td>\n",
       "      <td>None</td>\n",
       "      <td>242</td>\n",
       "      <td>1445</td>\n",
       "      <td>10630</td>\n",
       "      <td>train</td>\n",
       "      <td>True</td>\n",
       "      <td>True</td>\n",
       "      <td>False</td>\n",
       "      <td>3</td>\n",
       "    </tr>\n",
       "    <tr>\n",
       "      <th>3</th>\n",
       "      <td>111669151346</td>\n",
       "      <td>1033</td>\n",
       "      <td>104748</td>\n",
       "      <td>915835</td>\n",
       "      <td>2023-12-08 12:34:50</td>\n",
       "      <td>0</td>\n",
       "      <td>0</td>\n",
       "      <td>InitialAccess</td>\n",
       "      <td>T1078;T1078.004</td>\n",
       "      <td>TruePositive</td>\n",
       "      <td>...</td>\n",
       "      <td>None</td>\n",
       "      <td>None</td>\n",
       "      <td>242</td>\n",
       "      <td>1445</td>\n",
       "      <td>10630</td>\n",
       "      <td>train</td>\n",
       "      <td>True</td>\n",
       "      <td>True</td>\n",
       "      <td>False</td>\n",
       "      <td>3</td>\n",
       "    </tr>\n",
       "    <tr>\n",
       "      <th>4</th>\n",
       "      <td>764504182313</td>\n",
       "      <td>647</td>\n",
       "      <td>385384</td>\n",
       "      <td>1045452</td>\n",
       "      <td>2023-12-08 13:00:32</td>\n",
       "      <td>0</td>\n",
       "      <td>0</td>\n",
       "      <td>InitialAccess</td>\n",
       "      <td>T1078;T1078.004</td>\n",
       "      <td>TruePositive</td>\n",
       "      <td>...</td>\n",
       "      <td>None</td>\n",
       "      <td>None</td>\n",
       "      <td>242</td>\n",
       "      <td>1445</td>\n",
       "      <td>10630</td>\n",
       "      <td>train</td>\n",
       "      <td>True</td>\n",
       "      <td>True</td>\n",
       "      <td>False</td>\n",
       "      <td>3</td>\n",
       "    </tr>\n",
       "  </tbody>\n",
       "</table>\n",
       "<p>5 rows × 50 columns</p>\n",
       "</div>"
      ],
      "text/plain": [
       "             Id  OrgId  IncidentId  AlertId           Timestamp  DetectorId  \\\n",
       "0  111669151346   1033      104748   915835 2023-12-08 12:34:50           0   \n",
       "1  111669151346   1033      104748   915835 2023-12-08 12:34:50           0   \n",
       "2  111669151346   1033      104748   915835 2023-12-08 12:34:50           0   \n",
       "3  111669151346   1033      104748   915835 2023-12-08 12:34:50           0   \n",
       "4  764504182313    647      385384  1045452 2023-12-08 13:00:32           0   \n",
       "\n",
       "   AlertTitle       Category  MitreTechniques IncidentGrade  ...  \\\n",
       "0           0  InitialAccess  T1078;T1078.004  TruePositive  ...   \n",
       "1           0  InitialAccess  T1078;T1078.004  TruePositive  ...   \n",
       "2           0  InitialAccess  T1078;T1078.004  TruePositive  ...   \n",
       "3           0  InitialAccess  T1078;T1078.004  TruePositive  ...   \n",
       "4           0  InitialAccess  T1078;T1078.004  TruePositive  ...   \n",
       "\n",
       "  SuspicionLevel LastVerdict CountryCode State   City  dataset_type  \\\n",
       "0           None        None           0    22     41         train   \n",
       "1           None        None         242  1445  10630         train   \n",
       "2           None        None         242  1445  10630         train   \n",
       "3           None        None         242  1445  10630         train   \n",
       "4           None        None         242  1445  10630         train   \n",
       "\n",
       "   is_preparation_alert  is_intrusion_alert  is_compromise_alert  \\\n",
       "0                  True                True                False   \n",
       "1                  True                True                False   \n",
       "2                  True                True                False   \n",
       "3                  True                True                False   \n",
       "4                  True                True                False   \n",
       "\n",
       "   alert_bit_value  \n",
       "0                3  \n",
       "1                3  \n",
       "2                3  \n",
       "3                3  \n",
       "4                3  \n",
       "\n",
       "[5 rows x 50 columns]"
      ]
     },
     "execution_count": 33,
     "metadata": {},
     "output_type": "execute_result"
    }
   ],
   "source": [
    "df.head()"
   ]
  },
  {
   "cell_type": "code",
   "execution_count": 60,
   "id": "a15ac3a9",
   "metadata": {},
   "outputs": [],
   "source": [
    "keys = [\"dataset_type\", \"OrgId\", \"IncidentId\"]\n",
    "total_counts = df.groupby(keys).size()\n",
    "mask = df[\"MitreTechniques\"].astype(str).str.contains(\"T1078\",case=True, regex=False, na=False)\n",
    "cond_counts =  df[mask].groupby(keys).size()\n",
    "cond_counts = cond_counts.reindex(total_counts.index, fill_value=0)"
   ]
  },
  {
   "cell_type": "code",
   "execution_count": 61,
   "id": "384a8135",
   "metadata": {},
   "outputs": [],
   "source": [
    "rel_freq = (cond_counts/total_counts).to_frame()"
   ]
  },
  {
   "cell_type": "code",
   "execution_count": 62,
   "id": "00b1d37e",
   "metadata": {},
   "outputs": [
    {
     "data": {
      "image/png": "[encoded data removed]",
      "text/plain": [
       "<Figure size 800x600 with 1 Axes>"
      ]
     },
     "metadata": {},
     "output_type": "display_data"
    }
   ],
   "source": [
    "import matplotlib.pyplot as plt\n",
    "figsize = (8,6)\n",
    "title =  \"distribution of T1078 substring match frequency per group\"\n",
    "bins = 100\n",
    "\n",
    "plt.figure(figsize=figsize)\n",
    "n, bin_edges, patches = plt.hist(rel_freq, bins=bins, edgecolor='black')\n",
    "plt.xlabel(f'Proportion of Mitre Technique containing \"T1078\"')\n",
    "plt.ylabel('Number of groups')\n",
    "if title is None:\n",
    "    if isinstance(keys, (list, tuple)):\n",
    "        key_str = ', '.join(keys)\n",
    "    else:\n",
    "        key_str = str(keys)\n",
    "    title = f'Distribution of substring match frequency per group [{key_str}]'\n",
    "plt.title(title)\n",
    "plt.grid(axis='y', alpha=0.3)\n",
    "plt.tight_layout()\n",
    "plt.show()"
   ]
  },
  {
   "cell_type": "code",
   "execution_count": 64,
   "id": "740f8ea6",
   "metadata": {},
   "outputs": [],
   "source": [
    "# ① マスクを用意\n",
    "high_freq = rel_freq[ rel_freq >= 0.9 ]"
   ]
  },
  {
   "cell_type": "code",
   "execution_count": null,
   "id": "e0d712f6",
   "metadata": {},
   "outputs": [
    {
     "data": {
      "image/png": "[encoded data removed]",
      "text/plain": [
       "<Figure size 800x600 with 1 Axes>"
      ]
     },
     "metadata": {},
     "output_type": "display_data"
    }
   ],
   "source": [
    "import matplotlib.pyplot as plt\n",
    "figsize = (8,6)\n",
    "title =  \"distribution of T1078 substring match frequency per group\"\n",
    "bins = 100\n",
    "\n",
    "plt.figure(figsize=figsize)\n",
    "n, bin_edges, patches = plt.hist(high_freq, bins=bins, edgecolor='black')\n",
    "plt.xlabel(f'Proportion of Mitre Technique containing \"T1078\"')\n",
    "plt.ylabel('Number of groups')\n",
    "if title is None:\n",
    "    if isinstance(keys, (list, tuple)):\n",
    "        key_str = ', '.join(keys)\n",
    "    else:\n",
    "        key_str = str(keys)\n",
    "    title = f'Distribution of substring match frequency per group [{key_str}]'\n",
    "plt.title(title)\n",
    "plt.grid(axis='y', alpha=0.3)\n",
    "plt.tight_layout()\n",
    "plt.show()"
   ]
  },
  {
   "cell_type": "code",
   "execution_count": 18,
   "id": "fac80471",
   "metadata": {},
   "outputs": [
    {
     "data": {
      "text/plain": [
       "281"
      ]
     },
     "execution_count": 18,
     "metadata": {},
     "output_type": "execute_result"
    }
   ],
   "source": [
    "cdf.get_column(\"is_compromise_alert\").sum()"
   ]
  },
  {
   "cell_type": "code",
   "execution_count": 13,
   "id": "01cac27e",
   "metadata": {},
   "outputs": [
    {
     "data": {
      "text/plain": [
       "(45535, 4)"
      ]
     },
     "execution_count": 13,
     "metadata": {},
     "output_type": "execute_result"
    }
   ],
   "source": [
    "cdf.shape"
   ]
  },
  {
   "cell_type": "code",
   "execution_count": 21,
   "id": "8f988dad",
   "metadata": {},
   "outputs": [
    {
     "name": "stderr",
     "output_type": "stream",
     "text": [
      "100%|██████████| 45535/45535 [02:18<00:00, 329.31it/s]\n"
     ]
    }
   ],
   "source": [
    "ret_dict = {}\n",
    "gdf = df.group_by([\"OrgId\",\"IncidentId\"])\n",
    "\n",
    "for key, group_df in tqdm(gdf, total=df.n_unique(subset=[\"OrgId\",\"IncidentId\"])):\n",
    "    \n",
    "    tmpdf = group_df.with_columns(\n",
    "        pl.max_horizontal(\n",
    "            pl.col(\"is_preparation_alert\").cast(int),\n",
    "            pl.col(\"is_intrusion_alert\").cast(int)*2,\n",
    "            pl.col(\"is_compromise_alert\").cast(int)*4\n",
    "        ).alias(\"phase\"),\n",
    "    ).sort(\"Timestamp\")\n",
    "\n",
    "    min_value = tmpdf.select(\n",
    "        pl.col(\"phase\").diff().fill_null(0).alias(\"phase_diff\")\n",
    "    ).get_column(\"phase_diff\").min()\n",
    "    \n",
    "    # keyはincident_id, min_valueはマイナスであれば、Preparation, Intrusino, Compromiseの順でアラートが来て以内ということを示す。\n",
    "    ret_dict[str(key[0]) + \"_\" + str(key[1])] = min_value"
   ]
  },
  {
   "cell_type": "code",
   "execution_count": 35,
   "id": "79f3d273",
   "metadata": {},
   "outputs": [],
   "source": [
    "incident_df = df.group_by([\"OrgId\", \"IncidentId\"]).agg([pl.col(\"is_preparation_alert\").any(), pl.col(\"is_intrusion_alert\").any(), pl.col(\"is_compromise_alert\").any()])\n",
    "incident_df =  incident_df.with_columns(    (\n",
    "            (pl.col(\"is_preparation_alert\").cast(int) *(2**0)) +  # is_preparation_alert をビット2にシフト\n",
    "            (pl.col(\"is_intrusion_alert\").cast(int) *(2**1)) +   # is_intrusion_alert をビット1にシフト\n",
    "            pl.col(\"is_compromise_alert\").cast(int)  *(2**2)           # is_compromise_alert をビット0に\n",
    "    ).alias(\"alert_bit_value\"))"
   ]
  },
  {
   "cell_type": "code",
   "execution_count": 36,
   "id": "5d34b70c",
   "metadata": {},
   "outputs": [],
   "source": [
    "incident_df = incident_df.join(cdf, on = [\"OrgId\", \"IncidentId\"])"
   ]
  },
  {
   "cell_type": "code",
   "execution_count": 39,
   "id": "a01a7fe3",
   "metadata": {},
   "outputs": [],
   "source": [
    "incident_df = incident_df.with_columns((pl.col(\"OrgId\").cast(str) + \"_\" + pl.col(\"IncidentId\").cast(str)).replace_strict(ret_dict).cast(int).alias(\"ret_value\"))\n",
    "not_expected_scenario_dict = {}\n",
    "for key, group_df in incident_df.group_by([\"OrgId\", \"IncidentId\"]):\n",
    "    key = str(key[0]) + \"_\" + str(key[1])\n",
    "    count = group_df.filter(pl.col(\"ret_value\") < 0).shape[0]\n",
    "    not_expected_scenario_dict[key] = count\n",
    "    # if count > 0:\n",
    "        # print(key)"
   ]
  },
  {
   "cell_type": "code",
   "execution_count": 47,
   "id": "feb499b7",
   "metadata": {},
   "outputs": [],
   "source": [
    "incident_df = incident_df.with_columns((pl.col(\"OrgId\").cast(str) + \"_\" + pl.col(\"IncidentId\").cast(str)).alias(\"ID\"))"
   ]
  },
  {
   "cell_type": "code",
   "execution_count": 49,
   "id": "d35d7ba4",
   "metadata": {},
   "outputs": [
    {
     "data": {
      "text/html": [
       "<div><style>\n",
       ".dataframe > thead > tr,\n",
       ".dataframe > tbody > tr {\n",
       "  text-align: right;\n",
       "  white-space: pre-wrap;\n",
       "}\n",
       "</style>\n",
       "<small>shape: (5, 10)</small><table border=\"1\" class=\"dataframe\"><thead><tr><th>OrgId</th><th>IncidentId</th><th>is_preparation_alert</th><th>is_intrusion_alert</th><th>is_compromise_alert</th><th>alert_bit_value</th><th>dataset_type</th><th>is_compromise_alert_right</th><th>ret_value</th><th>ID</th></tr><tr><td>i64</td><td>i64</td><td>bool</td><td>bool</td><td>bool</td><td>i64</td><td>str</td><td>bool</td><td>i64</td><td>str</td></tr></thead><tbody><tr><td>38</td><td>289739</td><td>true</td><td>true</td><td>false</td><td>3</td><td>&quot;train&quot;</td><td>false</td><td>0</td><td>&quot;38_289739&quot;</td></tr><tr><td>38</td><td>456186</td><td>true</td><td>true</td><td>false</td><td>3</td><td>&quot;train&quot;</td><td>false</td><td>0</td><td>&quot;38_456186&quot;</td></tr><tr><td>195</td><td>29503</td><td>true</td><td>true</td><td>false</td><td>3</td><td>&quot;train&quot;</td><td>false</td><td>0</td><td>&quot;195_29503&quot;</td></tr><tr><td>107</td><td>26627</td><td>true</td><td>false</td><td>false</td><td>1</td><td>&quot;train&quot;</td><td>false</td><td>0</td><td>&quot;107_26627&quot;</td></tr><tr><td>38</td><td>457719</td><td>true</td><td>true</td><td>false</td><td>3</td><td>&quot;train&quot;</td><td>false</td><td>0</td><td>&quot;38_457719&quot;</td></tr></tbody></table></div>"
      ],
      "text/plain": [
       "shape: (5, 10)\n",
       "┌───────┬────────────┬────────────┬────────────┬───┬───────────┬───────────┬───────────┬───────────┐\n",
       "│ OrgId ┆ IncidentId ┆ is_prepara ┆ is_intrusi ┆ … ┆ dataset_t ┆ is_compro ┆ ret_value ┆ ID        │\n",
       "│ ---   ┆ ---        ┆ tion_alert ┆ on_alert   ┆   ┆ ype       ┆ mise_aler ┆ ---       ┆ ---       │\n",
       "│ i64   ┆ i64        ┆ ---        ┆ ---        ┆   ┆ ---       ┆ t_right   ┆ i64       ┆ str       │\n",
       "│       ┆            ┆ bool       ┆ bool       ┆   ┆ str       ┆ ---       ┆           ┆           │\n",
       "│       ┆            ┆            ┆            ┆   ┆           ┆ bool      ┆           ┆           │\n",
       "╞═══════╪════════════╪════════════╪════════════╪═══╪═══════════╪═══════════╪═══════════╪═══════════╡\n",
       "│ 38    ┆ 289739     ┆ true       ┆ true       ┆ … ┆ train     ┆ false     ┆ 0         ┆ 38_289739 │\n",
       "│ 38    ┆ 456186     ┆ true       ┆ true       ┆ … ┆ train     ┆ false     ┆ 0         ┆ 38_456186 │\n",
       "│ 195   ┆ 29503      ┆ true       ┆ true       ┆ … ┆ train     ┆ false     ┆ 0         ┆ 195_29503 │\n",
       "│ 107   ┆ 26627      ┆ true       ┆ false      ┆ … ┆ train     ┆ false     ┆ 0         ┆ 107_26627 │\n",
       "│ 38    ┆ 457719     ┆ true       ┆ true       ┆ … ┆ train     ┆ false     ┆ 0         ┆ 38_457719 │\n",
       "└───────┴────────────┴────────────┴────────────┴───┴───────────┴───────────┴───────────┴───────────┘"
      ]
     },
     "execution_count": 49,
     "metadata": {},
     "output_type": "execute_result"
    }
   ],
   "source": [
    "incident_df.head()"
   ]
  },
  {
   "cell_type": "code",
   "execution_count": 53,
   "id": "6b361a1e",
   "metadata": {},
   "outputs": [
    {
     "data": {
      "text/html": [
       "<div><style>\n",
       ".dataframe > thead > tr,\n",
       ".dataframe > tbody > tr {\n",
       "  text-align: right;\n",
       "  white-space: pre-wrap;\n",
       "}\n",
       "</style>\n",
       "<small>shape: (8, 2)</small><table border=\"1\" class=\"dataframe\"><thead><tr><th>alert_bit_value</th><th>is_compromise_alert_right</th></tr><tr><td>i64</td><td>u32</td></tr></thead><tbody><tr><td>0</td><td>0</td></tr><tr><td>1</td><td>0</td></tr><tr><td>2</td><td>0</td></tr><tr><td>3</td><td>0</td></tr><tr><td>4</td><td>199</td></tr><tr><td>5</td><td>0</td></tr><tr><td>6</td><td>79</td></tr><tr><td>7</td><td>3</td></tr></tbody></table></div>"
      ],
      "text/plain": [
       "shape: (8, 2)\n",
       "┌─────────────────┬───────────────────────────┐\n",
       "│ alert_bit_value ┆ is_compromise_alert_right │\n",
       "│ ---             ┆ ---                       │\n",
       "│ i64             ┆ u32                       │\n",
       "╞═════════════════╪═══════════════════════════╡\n",
       "│ 0               ┆ 0                         │\n",
       "│ 1               ┆ 0                         │\n",
       "│ 2               ┆ 0                         │\n",
       "│ 3               ┆ 0                         │\n",
       "│ 4               ┆ 199                       │\n",
       "│ 5               ┆ 0                         │\n",
       "│ 6               ┆ 79                        │\n",
       "│ 7               ┆ 3                         │\n",
       "└─────────────────┴───────────────────────────┘"
      ]
     },
     "execution_count": 53,
     "metadata": {},
     "output_type": "execute_result"
    }
   ],
   "source": [
    "incident_df.group_by(\"alert_bit_value\").agg(pl.col(\"is_compromise_alert_right\").sum()).sort(\"alert_bit_value\")\n",
    "# .with_columns(pl.col(\"ID\").replace_strict(not_expected_scenario_dict).alias(\"not_expected_scenario_count\"))"
   ]
  },
  {
   "cell_type": "code",
   "execution_count": null,
   "id": "4cb9299a",
   "metadata": {},
   "outputs": [],
   "source": [
    "incident_df.filter( pl.col(\"alert_bit_value\")==7).with_columns( (pl.col(\"OrgId\").cast(str) + \"_\" + pl.col(\"IncidentId\").cast(str))).get_column(\"OrgId\").to_list()"
   ]
  },
  {
   "cell_type": "markdown",
   "id": "6441b550",
   "metadata": {},
   "source": [
    "### 仮説検証 (Testデータ)"
   ]
  },
  {
   "cell_type": "code",
   "execution_count": 55,
   "id": "7c51c4ad",
   "metadata": {},
   "outputs": [],
   "source": [
    "test_df  = dataset.data.filter(pl.col(\"dataset_type\") == 'test').filter(pl.col(\"IncidentGrade\") == \"TruePositive\").sort(\"Timestamp\")"
   ]
  },
  {
   "cell_type": "code",
   "execution_count": 56,
   "id": "023ea697",
   "metadata": {},
   "outputs": [],
   "source": [
    "cdf = test_df.group_by([\"OrgId\", \"IncidentId\"]).agg(pl.col(\"is_compromise_alert\").first())"
   ]
  },
  {
   "cell_type": "code",
   "execution_count": 57,
   "id": "240de683",
   "metadata": {},
   "outputs": [],
   "source": [
    "test_df = test_df.join(cdf, on = [\"OrgId\", \"IncidentId\"])"
   ]
  },
  {
   "cell_type": "code",
   "execution_count": 58,
   "id": "56503d35",
   "metadata": {},
   "outputs": [
    {
     "name": "stderr",
     "output_type": "stream",
     "text": [
      "100%|██████████| 19613/19613 [01:01<00:00, 320.75it/s]\n"
     ]
    }
   ],
   "source": [
    "ret_dict = {}\n",
    "gdf = test_df.group_by([\"OrgId\",\"IncidentId\"])\n",
    "\n",
    "for key, group_df in tqdm(gdf, total=test_df.n_unique(subset=[\"OrgId\",\"IncidentId\"])):\n",
    "    \n",
    "    tmpdf = group_df.with_columns(\n",
    "        pl.max_horizontal(\n",
    "            pl.col(\"is_preparation_alert\").cast(int),\n",
    "            pl.col(\"is_intrusion_alert\").cast(int)*2,\n",
    "            pl.col(\"is_compromise_alert\").cast(int)*4\n",
    "        ).alias(\"phase\"),\n",
    "    ).sort(\"Timestamp\")\n",
    "\n",
    "    min_value = tmpdf.select(\n",
    "        pl.col(\"phase\").diff().fill_null(0).alias(\"phase_diff\")\n",
    "    ).get_column(\"phase_diff\").min()\n",
    "    \n",
    "    # keyはincident_id, min_valueはマイナスであれば、Preparation, Intrusino, Compromiseの順でアラートが来て以内ということを示す。\n",
    "    ret_dict[str(key[0]) + \"_\" + str(key[1])] = min_value"
   ]
  },
  {
   "cell_type": "code",
   "execution_count": 59,
   "id": "7f9957a7",
   "metadata": {},
   "outputs": [],
   "source": [
    "incident_df = test_df.group_by([\"OrgId\", \"IncidentId\"]).agg([pl.col(\"is_preparation_alert\").any(), pl.col(\"is_intrusion_alert\").any(), pl.col(\"is_compromise_alert\").any()])\n",
    "# incident_df = test_df.group_by(\"IncidentId\").agg([pl.col(\"is_preparation_alert\").any(), pl.col(\"is_intrusion_alert\").any(), pl.col(\"is_compromise_alert\").any()])\n",
    "incident_df =  incident_df.with_columns(    (\n",
    "            (pl.col(\"is_preparation_alert\").cast(int) *(2**0)) +  # is_preparation_alert をビット2にシフト\n",
    "            (pl.col(\"is_intrusion_alert\").cast(int) *(2**1)) +   # is_intrusion_alert をビット1にシフト\n",
    "            pl.col(\"is_compromise_alert\").cast(int)  *(2**2)           # is_compromise_alert をビット0に\n",
    "    ).alias(\"alert_bit_value\")\n",
    ")"
   ]
  },
  {
   "cell_type": "code",
   "execution_count": 60,
   "id": "f260d5e2",
   "metadata": {},
   "outputs": [],
   "source": [
    "incident_df = incident_df.with_columns((pl.col(\"OrgId\").cast(str) + \"_\" + pl.col(\"IncidentId\").cast(str)).replace_strict(ret_dict).cast(int).alias(\"ret_value\"))\n",
    "not_expected_scenario_dict = {}\n",
    "for key, group_df in incident_df.group_by(\"alert_bit_value\"):\n",
    "    key = key[0]\n",
    "    count = group_df.filter(pl.col(\"ret_value\") < 0).shape[0]\n",
    "    not_expected_scenario_dict[key] = count"
   ]
  },
  {
   "cell_type": "code",
   "execution_count": 67,
   "id": "43357e40",
   "metadata": {},
   "outputs": [
    {
     "data": {
      "text/html": [
       "<div><style>\n",
       ".dataframe > thead > tr,\n",
       ".dataframe > tbody > tr {\n",
       "  text-align: right;\n",
       "  white-space: pre-wrap;\n",
       "}\n",
       "</style>\n",
       "<small>shape: (7, 3)</small><table border=\"1\" class=\"dataframe\"><thead><tr><th>alert_bit_value</th><th>count</th><th>not_expected_scenario_count</th></tr><tr><td>i64</td><td>u32</td><td>i64</td></tr></thead><tbody><tr><td>0</td><td>19</td><td>0</td></tr><tr><td>1</td><td>11360</td><td>0</td></tr><tr><td>2</td><td>2274</td><td>0</td></tr><tr><td>3</td><td>5835</td><td>91</td></tr><tr><td>4</td><td>86</td><td>0</td></tr><tr><td>6</td><td>36</td><td>4</td></tr><tr><td>7</td><td>3</td><td>3</td></tr></tbody></table></div>"
      ],
      "text/plain": [
       "shape: (7, 3)\n",
       "┌─────────────────┬───────┬─────────────────────────────┐\n",
       "│ alert_bit_value ┆ count ┆ not_expected_scenario_count │\n",
       "│ ---             ┆ ---   ┆ ---                         │\n",
       "│ i64             ┆ u32   ┆ i64                         │\n",
       "╞═════════════════╪═══════╪═════════════════════════════╡\n",
       "│ 0               ┆ 19    ┆ 0                           │\n",
       "│ 1               ┆ 11360 ┆ 0                           │\n",
       "│ 2               ┆ 2274  ┆ 0                           │\n",
       "│ 3               ┆ 5835  ┆ 91                          │\n",
       "│ 4               ┆ 86    ┆ 0                           │\n",
       "│ 6               ┆ 36    ┆ 4                           │\n",
       "│ 7               ┆ 3     ┆ 3                           │\n",
       "└─────────────────┴───────┴─────────────────────────────┘"
      ]
     },
     "execution_count": 67,
     "metadata": {},
     "output_type": "execute_result"
    }
   ],
   "source": [
    "incident_df.group_by(\"alert_bit_value\").agg(pl.count(\"IncidentId\").alias(\"count\")).sort(\"alert_bit_value\").with_columns(pl.col(\"alert_bit_value\").replace_strict(not_expected_scenario_dict).alias(\"not_expected_scenario_count\"))"
   ]
  },
  {
   "cell_type": "code",
   "execution_count": 65,
   "id": "68b52781",
   "metadata": {},
   "outputs": [
    {
     "data": {
      "text/html": [
       "<div><style>\n",
       ".dataframe > thead > tr,\n",
       ".dataframe > tbody > tr {\n",
       "  text-align: right;\n",
       "  white-space: pre-wrap;\n",
       "}\n",
       "</style>\n",
       "<small>shape: (5, 8)</small><table border=\"1\" class=\"dataframe\"><thead><tr><th>OrgId</th><th>IncidentId</th><th>is_preparation_alert</th><th>is_intrusion_alert</th><th>is_compromise_alert</th><th>alert_bit_value</th><th>ret_value</th><th>is_compromise_alert_right</th></tr><tr><td>i64</td><td>i64</td><td>bool</td><td>bool</td><td>bool</td><td>i64</td><td>i64</td><td>bool</td></tr></thead><tbody><tr><td>455</td><td>33680</td><td>true</td><td>false</td><td>false</td><td>1</td><td>0</td><td>false</td></tr><tr><td>205</td><td>39540</td><td>true</td><td>false</td><td>false</td><td>1</td><td>0</td><td>false</td></tr><tr><td>216</td><td>31246</td><td>true</td><td>false</td><td>false</td><td>1</td><td>0</td><td>false</td></tr><tr><td>272</td><td>97415</td><td>true</td><td>false</td><td>false</td><td>1</td><td>0</td><td>false</td></tr><tr><td>1360</td><td>6658</td><td>true</td><td>false</td><td>false</td><td>1</td><td>0</td><td>false</td></tr></tbody></table></div>"
      ],
      "text/plain": [
       "shape: (5, 8)\n",
       "┌───────┬────────────┬─────────────┬────────────┬────────────┬────────────┬───────────┬────────────┐\n",
       "│ OrgId ┆ IncidentId ┆ is_preparat ┆ is_intrusi ┆ is_comprom ┆ alert_bit_ ┆ ret_value ┆ is_comprom │\n",
       "│ ---   ┆ ---        ┆ ion_alert   ┆ on_alert   ┆ ise_alert  ┆ value      ┆ ---       ┆ ise_alert_ │\n",
       "│ i64   ┆ i64        ┆ ---         ┆ ---        ┆ ---        ┆ ---        ┆ i64       ┆ right      │\n",
       "│       ┆            ┆ bool        ┆ bool       ┆ bool       ┆ i64        ┆           ┆ ---        │\n",
       "│       ┆            ┆             ┆            ┆            ┆            ┆           ┆ bool       │\n",
       "╞═══════╪════════════╪═════════════╪════════════╪════════════╪════════════╪═══════════╪════════════╡\n",
       "│ 455   ┆ 33680      ┆ true        ┆ false      ┆ false      ┆ 1          ┆ 0         ┆ false      │\n",
       "│ 205   ┆ 39540      ┆ true        ┆ false      ┆ false      ┆ 1          ┆ 0         ┆ false      │\n",
       "│ 216   ┆ 31246      ┆ true        ┆ false      ┆ false      ┆ 1          ┆ 0         ┆ false      │\n",
       "│ 272   ┆ 97415      ┆ true        ┆ false      ┆ false      ┆ 1          ┆ 0         ┆ false      │\n",
       "│ 1360  ┆ 6658       ┆ true        ┆ false      ┆ false      ┆ 1          ┆ 0         ┆ false      │\n",
       "└───────┴────────────┴─────────────┴────────────┴────────────┴────────────┴───────────┴────────────┘"
      ]
     },
     "execution_count": 65,
     "metadata": {},
     "output_type": "execute_result"
    }
   ],
   "source": [
    "# incident_df = incident_df.join(cdf, on = [\"OrgId\", \"IncidentId\"])\n",
    "incident_df.head()"
   ]
  },
  {
   "cell_type": "code",
   "execution_count": 68,
   "id": "18102ab8",
   "metadata": {},
   "outputs": [
    {
     "data": {
      "text/html": [
       "<div><style>\n",
       ".dataframe > thead > tr,\n",
       ".dataframe > tbody > tr {\n",
       "  text-align: right;\n",
       "  white-space: pre-wrap;\n",
       "}\n",
       "</style>\n",
       "<small>shape: (7, 2)</small><table border=\"1\" class=\"dataframe\"><thead><tr><th>alert_bit_value</th><th>is_compromise_alert_right</th></tr><tr><td>i64</td><td>u32</td></tr></thead><tbody><tr><td>0</td><td>0</td></tr><tr><td>1</td><td>0</td></tr><tr><td>2</td><td>0</td></tr><tr><td>3</td><td>0</td></tr><tr><td>4</td><td>86</td></tr><tr><td>6</td><td>33</td></tr><tr><td>7</td><td>2</td></tr></tbody></table></div>"
      ],
      "text/plain": [
       "shape: (7, 2)\n",
       "┌─────────────────┬───────────────────────────┐\n",
       "│ alert_bit_value ┆ is_compromise_alert_right │\n",
       "│ ---             ┆ ---                       │\n",
       "│ i64             ┆ u32                       │\n",
       "╞═════════════════╪═══════════════════════════╡\n",
       "│ 0               ┆ 0                         │\n",
       "│ 1               ┆ 0                         │\n",
       "│ 2               ┆ 0                         │\n",
       "│ 3               ┆ 0                         │\n",
       "│ 4               ┆ 86                        │\n",
       "│ 6               ┆ 33                        │\n",
       "│ 7               ┆ 2                         │\n",
       "└─────────────────┴───────────────────────────┘"
      ]
     },
     "execution_count": 68,
     "metadata": {},
     "output_type": "execute_result"
    }
   ],
   "source": [
    "incident_df.group_by(\"alert_bit_value\").agg(pl.col(\"is_compromise_alert_right\").sum()).sort(\"alert_bit_value\")"
   ]
  },
  {
   "cell_type": "code",
   "execution_count": 53,
   "id": "61b08351",
   "metadata": {},
   "outputs": [
    {
     "data": {
      "text/plain": [
       "['899_81161', '445_2613', '240_704']"
      ]
     },
     "execution_count": 53,
     "metadata": {},
     "output_type": "execute_result"
    }
   ],
   "source": [
    "incident_df.filter( pl.col(\"alert_bit_value\")==7).with_columns( (pl.col(\"OrgId\").cast(str) + \"_\" + pl.col(\"IncidentId\").cast(str))).get_column(\"OrgId\").to_list()"
   ]
  },
  {
   "cell_type": "markdown",
   "id": "63b690ee",
   "metadata": {},
   "source": [
    "### hogehoge\n",
    "preparation, intrusion, compromise全てが含まれる７にて、どのような結果になっているか確認する。"
   ]
  },
  {
   "cell_type": "code",
   "execution_count": 13,
   "id": "c8402c0e",
   "metadata": {},
   "outputs": [],
   "source": [
    "df  = dataset.data.filter(pl.col(\"dataset_type\") == 'train').filter(pl.col(\"IncidentGrade\") == \"TruePositive\")"
   ]
  },
  {
   "cell_type": "code",
   "execution_count": 15,
   "id": "13f3c7ff",
   "metadata": {},
   "outputs": [
    {
     "name": "stderr",
     "output_type": "stream",
     "text": [
      "  0%|          | 0/42701 [00:00<?, ?it/s]"
     ]
    },
    {
     "name": "stderr",
     "output_type": "stream",
     "text": [
      "  1%|          | 272/42701 [00:00<02:32, 278.04it/s]\n"
     ]
    },
    {
     "ename": "KeyboardInterrupt",
     "evalue": "",
     "output_type": "error",
     "traceback": [
      "\u001b[0;31m---------------------------------------------------------------------------\u001b[0m",
      "\u001b[0;31mKeyboardInterrupt\u001b[0m                         Traceback (most recent call last)",
      "Cell \u001b[0;32mIn[15], line 11\u001b[0m\n\u001b[1;32m      2\u001b[0m gdf \u001b[38;5;241m=\u001b[39m df\u001b[38;5;241m.\u001b[39mgroup_by(\u001b[38;5;124m\"\u001b[39m\u001b[38;5;124mIncidentId\u001b[39m\u001b[38;5;124m\"\u001b[39m)\n\u001b[1;32m      3\u001b[0m \u001b[38;5;28;01mfor\u001b[39;00m key, group_df \u001b[38;5;129;01min\u001b[39;00m tqdm(gdf, total\u001b[38;5;241m=\u001b[39mdf\u001b[38;5;241m.\u001b[39mn_unique(\u001b[38;5;124m\"\u001b[39m\u001b[38;5;124mIncidentId\u001b[39m\u001b[38;5;124m\"\u001b[39m)):\n\u001b[1;32m      5\u001b[0m     tmpdf \u001b[38;5;241m=\u001b[39m \u001b[43mgroup_df\u001b[49m\u001b[38;5;241;43m.\u001b[39;49m\u001b[43mwith_columns\u001b[49m\u001b[43m(\u001b[49m\n\u001b[1;32m      6\u001b[0m \u001b[43m        \u001b[49m\u001b[43mpl\u001b[49m\u001b[38;5;241;43m.\u001b[39;49m\u001b[43mmax_horizontal\u001b[49m\u001b[43m(\u001b[49m\n\u001b[1;32m      7\u001b[0m \u001b[43m            \u001b[49m\u001b[43mpl\u001b[49m\u001b[38;5;241;43m.\u001b[39;49m\u001b[43mcol\u001b[49m\u001b[43m(\u001b[49m\u001b[38;5;124;43m\"\u001b[39;49m\u001b[38;5;124;43mis_preparation_alert\u001b[39;49m\u001b[38;5;124;43m\"\u001b[39;49m\u001b[43m)\u001b[49m\u001b[38;5;241;43m.\u001b[39;49m\u001b[43mcast\u001b[49m\u001b[43m(\u001b[49m\u001b[38;5;28;43mint\u001b[39;49m\u001b[43m)\u001b[49m\u001b[43m,\u001b[49m\n\u001b[1;32m      8\u001b[0m \u001b[43m            \u001b[49m\u001b[43mpl\u001b[49m\u001b[38;5;241;43m.\u001b[39;49m\u001b[43mcol\u001b[49m\u001b[43m(\u001b[49m\u001b[38;5;124;43m\"\u001b[39;49m\u001b[38;5;124;43mis_intrusion_alert\u001b[39;49m\u001b[38;5;124;43m\"\u001b[39;49m\u001b[43m)\u001b[49m\u001b[38;5;241;43m.\u001b[39;49m\u001b[43mcast\u001b[49m\u001b[43m(\u001b[49m\u001b[38;5;28;43mint\u001b[39;49m\u001b[43m)\u001b[49m\u001b[38;5;241;43m*\u001b[39;49m\u001b[38;5;241;43m2\u001b[39;49m\u001b[43m,\u001b[49m\n\u001b[1;32m      9\u001b[0m \u001b[43m            \u001b[49m\u001b[43mpl\u001b[49m\u001b[38;5;241;43m.\u001b[39;49m\u001b[43mcol\u001b[49m\u001b[43m(\u001b[49m\u001b[38;5;124;43m\"\u001b[39;49m\u001b[38;5;124;43mis_compromise_alert\u001b[39;49m\u001b[38;5;124;43m\"\u001b[39;49m\u001b[43m)\u001b[49m\u001b[38;5;241;43m.\u001b[39;49m\u001b[43mcast\u001b[49m\u001b[43m(\u001b[49m\u001b[38;5;28;43mint\u001b[39;49m\u001b[43m)\u001b[49m\u001b[38;5;241;43m*\u001b[39;49m\u001b[38;5;241;43m4\u001b[39;49m\n\u001b[1;32m     10\u001b[0m \u001b[43m        \u001b[49m\u001b[43m)\u001b[49m\u001b[38;5;241;43m.\u001b[39;49m\u001b[43malias\u001b[49m\u001b[43m(\u001b[49m\u001b[38;5;124;43m\"\u001b[39;49m\u001b[38;5;124;43mphase\u001b[39;49m\u001b[38;5;124;43m\"\u001b[39;49m\u001b[43m)\u001b[49m\u001b[43m,\u001b[49m\n\u001b[0;32m---> 11\u001b[0m \u001b[43m    \u001b[49m\u001b[43m)\u001b[49m\u001b[38;5;241;43m.\u001b[39;49m\u001b[43msort\u001b[49m\u001b[43m(\u001b[49m\u001b[38;5;124;43m\"\u001b[39;49m\u001b[38;5;124;43mTimestamp\u001b[39;49m\u001b[38;5;124;43m\"\u001b[39;49m\u001b[43m)\u001b[49m\n\u001b[1;32m     13\u001b[0m     min_value \u001b[38;5;241m=\u001b[39m tmpdf\u001b[38;5;241m.\u001b[39mselect(\n\u001b[1;32m     14\u001b[0m         pl\u001b[38;5;241m.\u001b[39mcol(\u001b[38;5;124m\"\u001b[39m\u001b[38;5;124mphase\u001b[39m\u001b[38;5;124m\"\u001b[39m)\u001b[38;5;241m.\u001b[39mdiff()\u001b[38;5;241m.\u001b[39mfill_null(\u001b[38;5;241m0\u001b[39m)\u001b[38;5;241m.\u001b[39malias(\u001b[38;5;124m\"\u001b[39m\u001b[38;5;124mphase_diff\u001b[39m\u001b[38;5;124m\"\u001b[39m)\n\u001b[1;32m     15\u001b[0m     )\u001b[38;5;241m.\u001b[39mget_column(\u001b[38;5;124m\"\u001b[39m\u001b[38;5;124mphase_diff\u001b[39m\u001b[38;5;124m\"\u001b[39m)\u001b[38;5;241m.\u001b[39mmin()\n\u001b[1;32m     17\u001b[0m     \u001b[38;5;66;03m# keyはincident_id, min_valueはマイナスであれば、Preparation, Intrusino, Compromiseの順でアラートが来て以内ということを示す。\u001b[39;00m\n",
      "File \u001b[0;32m~/.cache/pypoetry/virtualenvs/bayses-3UyvmeC2-py3.11/lib/python3.11/site-packages/polars/dataframe/frame.py:5140\u001b[0m, in \u001b[0;36mDataFrame.sort\u001b[0;34m(self, by, descending, nulls_last, multithreaded, maintain_order, *more_by)\u001b[0m\n\u001b[1;32m   5035\u001b[0m \u001b[38;5;28;01mdef\u001b[39;00m \u001b[38;5;21msort\u001b[39m(\n\u001b[1;32m   5036\u001b[0m     \u001b[38;5;28mself\u001b[39m,\n\u001b[1;32m   5037\u001b[0m     by: IntoExpr \u001b[38;5;241m|\u001b[39m Iterable[IntoExpr],\n\u001b[0;32m   (...)\u001b[0m\n\u001b[1;32m   5042\u001b[0m     maintain_order: \u001b[38;5;28mbool\u001b[39m \u001b[38;5;241m=\u001b[39m \u001b[38;5;28;01mFalse\u001b[39;00m,\n\u001b[1;32m   5043\u001b[0m ) \u001b[38;5;241m-\u001b[39m\u001b[38;5;241m>\u001b[39m DataFrame:\n\u001b[1;32m   5044\u001b[0m \u001b[38;5;250m    \u001b[39m\u001b[38;5;124;03m\"\"\"\u001b[39;00m\n\u001b[1;32m   5045\u001b[0m \u001b[38;5;124;03m    Sort the dataframe by the given columns.\u001b[39;00m\n\u001b[1;32m   5046\u001b[0m \n\u001b[0;32m   (...)\u001b[0m\n\u001b[1;32m   5128\u001b[0m \u001b[38;5;124;03m    └──────┴─────┴─────┘\u001b[39;00m\n\u001b[1;32m   5129\u001b[0m \u001b[38;5;124;03m    \"\"\"\u001b[39;00m\n\u001b[1;32m   5130\u001b[0m     \u001b[38;5;28;01mreturn\u001b[39;00m (\n\u001b[1;32m   5131\u001b[0m         \u001b[38;5;28;43mself\u001b[39;49m\u001b[38;5;241;43m.\u001b[39;49m\u001b[43mlazy\u001b[49m\u001b[43m(\u001b[49m\u001b[43m)\u001b[49m\n\u001b[1;32m   5132\u001b[0m \u001b[43m        \u001b[49m\u001b[38;5;241;43m.\u001b[39;49m\u001b[43msort\u001b[49m\u001b[43m(\u001b[49m\n\u001b[1;32m   5133\u001b[0m \u001b[43m            \u001b[49m\u001b[43mby\u001b[49m\u001b[43m,\u001b[49m\n\u001b[1;32m   5134\u001b[0m \u001b[43m            \u001b[49m\u001b[38;5;241;43m*\u001b[39;49m\u001b[43mmore_by\u001b[49m\u001b[43m,\u001b[49m\n\u001b[1;32m   5135\u001b[0m \u001b[43m            \u001b[49m\u001b[43mdescending\u001b[49m\u001b[38;5;241;43m=\u001b[39;49m\u001b[43mdescending\u001b[49m\u001b[43m,\u001b[49m\n\u001b[1;32m   5136\u001b[0m \u001b[43m            \u001b[49m\u001b[43mnulls_last\u001b[49m\u001b[38;5;241;43m=\u001b[39;49m\u001b[43mnulls_last\u001b[49m\u001b[43m,\u001b[49m\n\u001b[1;32m   5137\u001b[0m \u001b[43m            \u001b[49m\u001b[43mmultithreaded\u001b[49m\u001b[38;5;241;43m=\u001b[39;49m\u001b[43mmultithreaded\u001b[49m\u001b[43m,\u001b[49m\n\u001b[1;32m   5138\u001b[0m \u001b[43m            \u001b[49m\u001b[43mmaintain_order\u001b[49m\u001b[38;5;241;43m=\u001b[39;49m\u001b[43mmaintain_order\u001b[49m\u001b[43m,\u001b[49m\n\u001b[1;32m   5139\u001b[0m \u001b[43m        \u001b[49m\u001b[43m)\u001b[49m\n\u001b[0;32m-> 5140\u001b[0m \u001b[43m        \u001b[49m\u001b[38;5;241;43m.\u001b[39;49m\u001b[43mcollect\u001b[49m\u001b[43m(\u001b[49m\u001b[43m_eager\u001b[49m\u001b[38;5;241;43m=\u001b[39;49m\u001b[38;5;28;43;01mTrue\u001b[39;49;00m\u001b[43m)\u001b[49m\n\u001b[1;32m   5141\u001b[0m     )\n",
      "File \u001b[0;32m~/.cache/pypoetry/virtualenvs/bayses-3UyvmeC2-py3.11/lib/python3.11/site-packages/polars/lazyframe/frame.py:2050\u001b[0m, in \u001b[0;36mLazyFrame.collect\u001b[0;34m(self, type_coercion, predicate_pushdown, projection_pushdown, simplify_expression, slice_pushdown, comm_subplan_elim, comm_subexpr_elim, cluster_with_columns, collapse_joins, no_optimization, streaming, engine, background, _eager, **_kwargs)\u001b[0m\n\u001b[1;32m   2048\u001b[0m \u001b[38;5;66;03m# Only for testing purposes\u001b[39;00m\n\u001b[1;32m   2049\u001b[0m callback \u001b[38;5;241m=\u001b[39m _kwargs\u001b[38;5;241m.\u001b[39mget(\u001b[38;5;124m\"\u001b[39m\u001b[38;5;124mpost_opt_callback\u001b[39m\u001b[38;5;124m\"\u001b[39m, callback)\n\u001b[0;32m-> 2050\u001b[0m \u001b[38;5;28;01mreturn\u001b[39;00m wrap_df(\u001b[43mldf\u001b[49m\u001b[38;5;241;43m.\u001b[39;49m\u001b[43mcollect\u001b[49m\u001b[43m(\u001b[49m\u001b[43mcallback\u001b[49m\u001b[43m)\u001b[49m)\n",
      "\u001b[0;31mKeyboardInterrupt\u001b[0m: "
     ]
    }
   ],
   "source": [
    "ret_dict = {}\n",
    "gdf = df.group_by(\"IncidentId\")\n",
    "for key, group_df in tqdm(gdf, total=df.n_unique(\"IncidentId\")):\n",
    "    \n",
    "    tmpdf = group_df.with_columns(\n",
    "        pl.max_horizontal(\n",
    "            pl.col(\"is_preparation_alert\").cast(int),\n",
    "            pl.col(\"is_intrusion_alert\").cast(int)*2,\n",
    "            pl.col(\"is_compromise_alert\").cast(int)*4\n",
    "        ).alias(\"phase\"),\n",
    "    ).sort(\"Timestamp\")\n",
    "\n",
    "    min_value = tmpdf.select(\n",
    "        pl.col(\"phase\").diff().fill_null(0).alias(\"phase_diff\")\n",
    "    ).get_column(\"phase_diff\").min()\n",
    "    \n",
    "    # keyはincident_id, min_valueはマイナスであれば、Preparation, Intrusino, Compromiseの順でアラートが来て以内ということを示す。\n",
    "    ret_dict[key[0]] = min_value"
   ]
  },
  {
   "cell_type": "code",
   "execution_count": 49,
   "id": "1a14fcea",
   "metadata": {},
   "outputs": [],
   "source": [
    "incident_df = df.group_by(\"IncidentId\").agg([pl.col(\"is_preparation_alert\").any(), pl.col(\"is_intrusion_alert\").any(), pl.col(\"is_compromise_alert\").any()])\n",
    "incident_df =  incident_df.with_columns(    (\n",
    "            (pl.col(\"is_preparation_alert\").cast(int) *(2**0)) +  # is_preparation_alert をビット2にシフト\n",
    "            (pl.col(\"is_intrusion_alert\").cast(int) *(2**1)) +   # is_intrusion_alert をビット1にシフト\n",
    "            pl.col(\"is_compromise_alert\").cast(int)  *(2**2)           # is_compromise_alert をビット0に\n",
    "    ).alias(\"alert_bit_value\")\n",
    ")"
   ]
  },
  {
   "cell_type": "code",
   "execution_count": 50,
   "id": "18617108",
   "metadata": {},
   "outputs": [],
   "source": [
    "incident_df = incident_df.with_columns(\n",
    "    pl.col(\"IncidentId\").replace_strict(ret_dict).cast(int).alias(\"ret_value\")\n",
    ")\n",
    "not_expected_scenario_dict = {}\n",
    "for key, group_df in incident_df.group_by(\"alert_bit_value\"):\n",
    "    key = key[0]\n",
    "    count = group_df.filter(pl.col(\"ret_value\") < 0).shape[0]\n",
    "    not_expected_scenario_dict[key] = count"
   ]
  },
  {
   "cell_type": "code",
   "execution_count": 65,
   "id": "0a1d7a70",
   "metadata": {},
   "outputs": [
    {
     "data": {
      "text/html": [
       "<div><style>\n",
       ".dataframe > thead > tr,\n",
       ".dataframe > tbody > tr {\n",
       "  text-align: right;\n",
       "  white-space: pre-wrap;\n",
       "}\n",
       "</style>\n",
       "<small>shape: (15, 6)</small><table border=\"1\" class=\"dataframe\"><thead><tr><th>IncidentId</th><th>is_preparation_alert</th><th>is_intrusion_alert</th><th>is_compromise_alert</th><th>alert_bit_value</th><th>ret_value</th></tr><tr><td>i64</td><td>bool</td><td>bool</td><td>bool</td><td>i64</td><td>i64</td></tr></thead><tbody><tr><td>76576</td><td>true</td><td>true</td><td>true</td><td>7</td><td>0</td></tr><tr><td>82346</td><td>true</td><td>true</td><td>true</td><td>7</td><td>0</td></tr><tr><td>22884</td><td>true</td><td>true</td><td>true</td><td>7</td><td>0</td></tr><tr><td>68383</td><td>true</td><td>true</td><td>true</td><td>7</td><td>0</td></tr><tr><td>13658</td><td>true</td><td>true</td><td>true</td><td>7</td><td>0</td></tr><tr><td>&hellip;</td><td>&hellip;</td><td>&hellip;</td><td>&hellip;</td><td>&hellip;</td><td>&hellip;</td></tr><tr><td>18652</td><td>true</td><td>true</td><td>true</td><td>7</td><td>0</td></tr><tr><td>14335</td><td>true</td><td>true</td><td>true</td><td>7</td><td>0</td></tr><tr><td>49860</td><td>true</td><td>true</td><td>true</td><td>7</td><td>0</td></tr><tr><td>71377</td><td>true</td><td>true</td><td>true</td><td>7</td><td>0</td></tr><tr><td>39690</td><td>true</td><td>true</td><td>true</td><td>7</td><td>0</td></tr></tbody></table></div>"
      ],
      "text/plain": [
       "shape: (15, 6)\n",
       "┌────────────┬──────────────────┬──────────────────┬─────────────────┬─────────────────┬───────────┐\n",
       "│ IncidentId ┆ is_preparation_a ┆ is_intrusion_ale ┆ is_compromise_a ┆ alert_bit_value ┆ ret_value │\n",
       "│ ---        ┆ lert             ┆ rt               ┆ lert            ┆ ---             ┆ ---       │\n",
       "│ i64        ┆ ---              ┆ ---              ┆ ---             ┆ i64             ┆ i64       │\n",
       "│            ┆ bool             ┆ bool             ┆ bool            ┆                 ┆           │\n",
       "╞════════════╪══════════════════╪══════════════════╪═════════════════╪═════════════════╪═══════════╡\n",
       "│ 76576      ┆ true             ┆ true             ┆ true            ┆ 7               ┆ 0         │\n",
       "│ 82346      ┆ true             ┆ true             ┆ true            ┆ 7               ┆ 0         │\n",
       "│ 22884      ┆ true             ┆ true             ┆ true            ┆ 7               ┆ 0         │\n",
       "│ 68383      ┆ true             ┆ true             ┆ true            ┆ 7               ┆ 0         │\n",
       "│ 13658      ┆ true             ┆ true             ┆ true            ┆ 7               ┆ 0         │\n",
       "│ …          ┆ …                ┆ …                ┆ …               ┆ …               ┆ …         │\n",
       "│ 18652      ┆ true             ┆ true             ┆ true            ┆ 7               ┆ 0         │\n",
       "│ 14335      ┆ true             ┆ true             ┆ true            ┆ 7               ┆ 0         │\n",
       "│ 49860      ┆ true             ┆ true             ┆ true            ┆ 7               ┆ 0         │\n",
       "│ 71377      ┆ true             ┆ true             ┆ true            ┆ 7               ┆ 0         │\n",
       "│ 39690      ┆ true             ┆ true             ┆ true            ┆ 7               ┆ 0         │\n",
       "└────────────┴──────────────────┴──────────────────┴─────────────────┴─────────────────┴───────────┘"
      ]
     },
     "execution_count": 65,
     "metadata": {},
     "output_type": "execute_result"
    }
   ],
   "source": [
    "incident_df.filter(pl.col(\"alert_bit_value\") == 7).filter(pl.col(\"ret_value\") >= 0)"
   ]
  }
 ],
 "metadata": {
  "kernelspec": {
   "display_name": ".venv",
   "language": "python",
   "name": "python3"
  },
  "language_info": {
   "codemirror_mode": {
    "name": "ipython",
    "version": 3
   },
   "file_extension": ".py",
   "mimetype": "text/x-python",
   "name": "python",
   "nbconvert_exporter": "python",
   "pygments_lexer": "ipython3",
   "version": "3.11.10"
  }
 },
 "nbformat": 4,
 "nbformat_minor": 5
}
